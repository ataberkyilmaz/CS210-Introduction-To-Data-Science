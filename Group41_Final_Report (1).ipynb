{
  "nbformat": 4,
  "nbformat_minor": 0,
  "metadata": {
    "colab": {
      "name": "Group41_Final_Report",
      "provenance": [],
      "collapsed_sections": [],
      "toc_visible": true
    },
    "kernelspec": {
      "name": "python3",
      "display_name": "Python 3"
    }
  },
  "cells": [
    {
      "cell_type": "markdown",
      "metadata": {
        "id": "yyVdR2NRipFd"
      },
      "source": [
        "#Analyzing the prices of AirBnb data in New York Ciy - Group 41\n",
        "Group members:\n",
        "- Ataberk Yılmaz 26829\n",
        "- Kaan Söylemez 26950"
      ]
    },
    {
      "cell_type": "markdown",
      "metadata": {
        "id": "ttv8ElEMjKuz"
      },
      "source": [
        "##Introduction\n",
        "There are many Airbnb’s in NYC with different prices. In this project we will be analyzing what kind of correlations with these prices exist."
      ]
    },
    {
      "cell_type": "markdown",
      "metadata": {
        "id": "FyXrClWflBX3"
      },
      "source": [
        "###Problem Definition\n",
        "NYC has different options when it comes to AirBnb pricing. But when we look at the prices, we observe that there is a huge gap between the maximum and minimum price an individual would pay.\n",
        "\n",
        "Hypothesis: We believe that the following factors have a correlation with AirBnb prices: \n",
        "1. Number of reviews: Number of reviews is an indicator for demand, so we assume that there will be a correlation. \n",
        "2. Room Types: Whether the place is a private room, shared room or the entire house will definitely have a correlation since it is an important aspect.\n",
        "3. Neighbourhood groups: There are 5 neighbourhood groups in NYC. They all offer different kind of opportunities and have different standarts so there must be a correlation between them. We will also look into why there is a correlation by analysing the public transportation opportunities of the neighbourhood groups. \n",
        "\n",
        "We will utilize several datasets to find out if these correlations really exist.\n",
        "\n"
      ]
    },
    {
      "cell_type": "markdown",
      "metadata": {
        "id": "G1byaTgxsJ2t"
      },
      "source": [
        "###Utilized Datasets\n",
        "- New York City Airbnb Open Data:\n",
        "\" https://www.kaggle.com/dgomonov/new-york-city-airbnb-open-data \"\n",
        "- Subway Entrances, Map of NYC Subway Entrances:\n",
        "\" https://data.cityofnewyork.us/Transportation/Subway-Entrances/drex-xx56 \"\n",
        "- NYC Transit Subway Entrance and Exit Data:\n",
        "\" https://data.ny.gov/Transportation/NYC-Transit-Subway-Entrance-And-Exit-Data/i9wp-a4ja \"\n",
        "\n"
      ]
    },
    {
      "cell_type": "code",
      "metadata": {
        "id": "bq_D7RGFbkxn",
        "colab": {
          "base_uri": "https://localhost:8080/"
        },
        "outputId": "c42ecb10-c252-4e80-bfc4-8694c3c23102"
      },
      "source": [
        "from google.colab import drive\n",
        "drive.mount(\"/content/drive\", force_remount=True)\n",
        "\n",
        "\n",
        "path = \"/content/drive/My Drive\""
      ],
      "execution_count": null,
      "outputs": [
        {
          "output_type": "stream",
          "text": [
            "Mounted at /content/drive\n"
          ],
          "name": "stdout"
        }
      ]
    },
    {
      "cell_type": "code",
      "metadata": {
        "id": "HSjiyLFYddPe"
      },
      "source": [
        "import pandas as pd  # an alias for pandas\n",
        "import numpy as np\n",
        "import seaborn as sns\n",
        "import folium\n",
        "import matplotlib.pyplot as plt\n",
        "from scipy import stats\n",
        "from os.path import join\n",
        "\n",
        "%matplotlib inline"
      ],
      "execution_count": null,
      "outputs": []
    },
    {
      "cell_type": "markdown",
      "metadata": {
        "id": "3AhP4Aykj-ZH"
      },
      "source": [
        "# Observation of our main data"
      ]
    },
    {
      "cell_type": "code",
      "metadata": {
        "id": "hmZCpU_odis1"
      },
      "source": [
        "filename = \"AB_NYC_2019.csv\"\n",
        "df = pd.read_csv(join(path, filename))\n",
        "filename2 = \"NYC_Transit_Subway_Entrance_And_Exit_Data.csv\"\n",
        "df_1 = pd.read_csv(join(path, filename2))"
      ],
      "execution_count": null,
      "outputs": []
    },
    {
      "cell_type": "code",
      "metadata": {
        "id": "aWhembeceXCL",
        "colab": {
          "base_uri": "https://localhost:8080/",
          "height": 400
        },
        "outputId": "62cf8a0a-d1aa-47d3-c12b-c3b99658da33"
      },
      "source": [
        "df.head()"
      ],
      "execution_count": null,
      "outputs": [
        {
          "output_type": "execute_result",
          "data": {
            "text/html": [
              "<div>\n",
              "<style scoped>\n",
              "    .dataframe tbody tr th:only-of-type {\n",
              "        vertical-align: middle;\n",
              "    }\n",
              "\n",
              "    .dataframe tbody tr th {\n",
              "        vertical-align: top;\n",
              "    }\n",
              "\n",
              "    .dataframe thead th {\n",
              "        text-align: right;\n",
              "    }\n",
              "</style>\n",
              "<table border=\"1\" class=\"dataframe\">\n",
              "  <thead>\n",
              "    <tr style=\"text-align: right;\">\n",
              "      <th></th>\n",
              "      <th>id</th>\n",
              "      <th>name</th>\n",
              "      <th>host_id</th>\n",
              "      <th>host_name</th>\n",
              "      <th>neighbourhood_group</th>\n",
              "      <th>neighbourhood</th>\n",
              "      <th>latitude</th>\n",
              "      <th>longitude</th>\n",
              "      <th>room_type</th>\n",
              "      <th>price</th>\n",
              "      <th>minimum_nights</th>\n",
              "      <th>number_of_reviews</th>\n",
              "      <th>last_review</th>\n",
              "      <th>reviews_per_month</th>\n",
              "      <th>calculated_host_listings_count</th>\n",
              "      <th>availability_365</th>\n",
              "    </tr>\n",
              "  </thead>\n",
              "  <tbody>\n",
              "    <tr>\n",
              "      <th>0</th>\n",
              "      <td>2539</td>\n",
              "      <td>Clean &amp; quiet apt home by the park</td>\n",
              "      <td>2787</td>\n",
              "      <td>John</td>\n",
              "      <td>Brooklyn</td>\n",
              "      <td>Kensington</td>\n",
              "      <td>40.64749</td>\n",
              "      <td>-73.97237</td>\n",
              "      <td>Private room</td>\n",
              "      <td>149</td>\n",
              "      <td>1</td>\n",
              "      <td>9</td>\n",
              "      <td>2018-10-19</td>\n",
              "      <td>0.21</td>\n",
              "      <td>6</td>\n",
              "      <td>365</td>\n",
              "    </tr>\n",
              "    <tr>\n",
              "      <th>1</th>\n",
              "      <td>2595</td>\n",
              "      <td>Skylit Midtown Castle</td>\n",
              "      <td>2845</td>\n",
              "      <td>Jennifer</td>\n",
              "      <td>Manhattan</td>\n",
              "      <td>Midtown</td>\n",
              "      <td>40.75362</td>\n",
              "      <td>-73.98377</td>\n",
              "      <td>Entire home/apt</td>\n",
              "      <td>225</td>\n",
              "      <td>1</td>\n",
              "      <td>45</td>\n",
              "      <td>2019-05-21</td>\n",
              "      <td>0.38</td>\n",
              "      <td>2</td>\n",
              "      <td>355</td>\n",
              "    </tr>\n",
              "    <tr>\n",
              "      <th>2</th>\n",
              "      <td>3647</td>\n",
              "      <td>THE VILLAGE OF HARLEM....NEW YORK !</td>\n",
              "      <td>4632</td>\n",
              "      <td>Elisabeth</td>\n",
              "      <td>Manhattan</td>\n",
              "      <td>Harlem</td>\n",
              "      <td>40.80902</td>\n",
              "      <td>-73.94190</td>\n",
              "      <td>Private room</td>\n",
              "      <td>150</td>\n",
              "      <td>3</td>\n",
              "      <td>0</td>\n",
              "      <td>NaN</td>\n",
              "      <td>NaN</td>\n",
              "      <td>1</td>\n",
              "      <td>365</td>\n",
              "    </tr>\n",
              "    <tr>\n",
              "      <th>3</th>\n",
              "      <td>3831</td>\n",
              "      <td>Cozy Entire Floor of Brownstone</td>\n",
              "      <td>4869</td>\n",
              "      <td>LisaRoxanne</td>\n",
              "      <td>Brooklyn</td>\n",
              "      <td>Clinton Hill</td>\n",
              "      <td>40.68514</td>\n",
              "      <td>-73.95976</td>\n",
              "      <td>Entire home/apt</td>\n",
              "      <td>89</td>\n",
              "      <td>1</td>\n",
              "      <td>270</td>\n",
              "      <td>2019-07-05</td>\n",
              "      <td>4.64</td>\n",
              "      <td>1</td>\n",
              "      <td>194</td>\n",
              "    </tr>\n",
              "    <tr>\n",
              "      <th>4</th>\n",
              "      <td>5022</td>\n",
              "      <td>Entire Apt: Spacious Studio/Loft by central park</td>\n",
              "      <td>7192</td>\n",
              "      <td>Laura</td>\n",
              "      <td>Manhattan</td>\n",
              "      <td>East Harlem</td>\n",
              "      <td>40.79851</td>\n",
              "      <td>-73.94399</td>\n",
              "      <td>Entire home/apt</td>\n",
              "      <td>80</td>\n",
              "      <td>10</td>\n",
              "      <td>9</td>\n",
              "      <td>2018-11-19</td>\n",
              "      <td>0.10</td>\n",
              "      <td>1</td>\n",
              "      <td>0</td>\n",
              "    </tr>\n",
              "  </tbody>\n",
              "</table>\n",
              "</div>"
            ],
            "text/plain": [
              "     id  ... availability_365\n",
              "0  2539  ...              365\n",
              "1  2595  ...              355\n",
              "2  3647  ...              365\n",
              "3  3831  ...              194\n",
              "4  5022  ...                0\n",
              "\n",
              "[5 rows x 16 columns]"
            ]
          },
          "metadata": {
            "tags": []
          },
          "execution_count": 6
        }
      ]
    },
    {
      "cell_type": "code",
      "metadata": {
        "id": "da2WjBHcPuzz",
        "colab": {
          "base_uri": "https://localhost:8080/",
          "height": 622
        },
        "outputId": "dc486972-4f7a-4e5b-cb7d-4af360c6c646"
      },
      "source": [
        "df_1.head(100)"
      ],
      "execution_count": null,
      "outputs": [
        {
          "output_type": "execute_result",
          "data": {
            "text/html": [
              "<div>\n",
              "<style scoped>\n",
              "    .dataframe tbody tr th:only-of-type {\n",
              "        vertical-align: middle;\n",
              "    }\n",
              "\n",
              "    .dataframe tbody tr th {\n",
              "        vertical-align: top;\n",
              "    }\n",
              "\n",
              "    .dataframe thead th {\n",
              "        text-align: right;\n",
              "    }\n",
              "</style>\n",
              "<table border=\"1\" class=\"dataframe\">\n",
              "  <thead>\n",
              "    <tr style=\"text-align: right;\">\n",
              "      <th></th>\n",
              "      <th>Division</th>\n",
              "      <th>Line</th>\n",
              "      <th>Station Name</th>\n",
              "      <th>Station Latitude</th>\n",
              "      <th>Station Longitude</th>\n",
              "      <th>Route1</th>\n",
              "      <th>Route2</th>\n",
              "      <th>Route3</th>\n",
              "      <th>Route4</th>\n",
              "      <th>Route5</th>\n",
              "      <th>Route6</th>\n",
              "      <th>Route7</th>\n",
              "      <th>Route8</th>\n",
              "      <th>Route9</th>\n",
              "      <th>Route10</th>\n",
              "      <th>Route11</th>\n",
              "      <th>Entrance Type</th>\n",
              "      <th>Entry</th>\n",
              "      <th>Exit Only</th>\n",
              "      <th>Vending</th>\n",
              "      <th>Staffing</th>\n",
              "      <th>Staff Hours</th>\n",
              "      <th>ADA</th>\n",
              "      <th>ADA Notes</th>\n",
              "      <th>Free Crossover</th>\n",
              "      <th>North South Street</th>\n",
              "      <th>East West Street</th>\n",
              "      <th>Corner</th>\n",
              "      <th>Entrance Latitude</th>\n",
              "      <th>Entrance Longitude</th>\n",
              "      <th>Station Location</th>\n",
              "      <th>Entrance Location</th>\n",
              "    </tr>\n",
              "  </thead>\n",
              "  <tbody>\n",
              "    <tr>\n",
              "      <th>0</th>\n",
              "      <td>BMT</td>\n",
              "      <td>4 Avenue</td>\n",
              "      <td>25th St</td>\n",
              "      <td>40.660397</td>\n",
              "      <td>-73.998091</td>\n",
              "      <td>R</td>\n",
              "      <td>NaN</td>\n",
              "      <td>NaN</td>\n",
              "      <td>NaN</td>\n",
              "      <td>NaN</td>\n",
              "      <td>NaN</td>\n",
              "      <td>NaN</td>\n",
              "      <td>NaN</td>\n",
              "      <td>NaN</td>\n",
              "      <td>NaN</td>\n",
              "      <td>NaN</td>\n",
              "      <td>Stair</td>\n",
              "      <td>YES</td>\n",
              "      <td>NaN</td>\n",
              "      <td>YES</td>\n",
              "      <td>NONE</td>\n",
              "      <td>NaN</td>\n",
              "      <td>False</td>\n",
              "      <td>NaN</td>\n",
              "      <td>False</td>\n",
              "      <td>4th Ave</td>\n",
              "      <td>25th St</td>\n",
              "      <td>SW</td>\n",
              "      <td>40.660489</td>\n",
              "      <td>-73.998220</td>\n",
              "      <td>(40.660397, -73.998091)</td>\n",
              "      <td>(40.660489, -73.99822)</td>\n",
              "    </tr>\n",
              "    <tr>\n",
              "      <th>1</th>\n",
              "      <td>BMT</td>\n",
              "      <td>4 Avenue</td>\n",
              "      <td>25th St</td>\n",
              "      <td>40.660397</td>\n",
              "      <td>-73.998091</td>\n",
              "      <td>R</td>\n",
              "      <td>NaN</td>\n",
              "      <td>NaN</td>\n",
              "      <td>NaN</td>\n",
              "      <td>NaN</td>\n",
              "      <td>NaN</td>\n",
              "      <td>NaN</td>\n",
              "      <td>NaN</td>\n",
              "      <td>NaN</td>\n",
              "      <td>NaN</td>\n",
              "      <td>NaN</td>\n",
              "      <td>Stair</td>\n",
              "      <td>YES</td>\n",
              "      <td>NaN</td>\n",
              "      <td>YES</td>\n",
              "      <td>FULL</td>\n",
              "      <td>NaN</td>\n",
              "      <td>False</td>\n",
              "      <td>NaN</td>\n",
              "      <td>False</td>\n",
              "      <td>4th Ave</td>\n",
              "      <td>25th St</td>\n",
              "      <td>SE</td>\n",
              "      <td>40.660323</td>\n",
              "      <td>-73.997952</td>\n",
              "      <td>(40.660397, -73.998091)</td>\n",
              "      <td>(40.660323, -73.997952)</td>\n",
              "    </tr>\n",
              "    <tr>\n",
              "      <th>2</th>\n",
              "      <td>BMT</td>\n",
              "      <td>4 Avenue</td>\n",
              "      <td>36th St</td>\n",
              "      <td>40.655144</td>\n",
              "      <td>-74.003549</td>\n",
              "      <td>N</td>\n",
              "      <td>R</td>\n",
              "      <td>NaN</td>\n",
              "      <td>NaN</td>\n",
              "      <td>NaN</td>\n",
              "      <td>NaN</td>\n",
              "      <td>NaN</td>\n",
              "      <td>NaN</td>\n",
              "      <td>NaN</td>\n",
              "      <td>NaN</td>\n",
              "      <td>NaN</td>\n",
              "      <td>Stair</td>\n",
              "      <td>YES</td>\n",
              "      <td>NaN</td>\n",
              "      <td>YES</td>\n",
              "      <td>FULL</td>\n",
              "      <td>NaN</td>\n",
              "      <td>False</td>\n",
              "      <td>NaN</td>\n",
              "      <td>True</td>\n",
              "      <td>4th Ave</td>\n",
              "      <td>36th St</td>\n",
              "      <td>NW</td>\n",
              "      <td>40.654676</td>\n",
              "      <td>-74.004306</td>\n",
              "      <td>(40.655144, -74.003549)</td>\n",
              "      <td>(40.654676, -74.004306)</td>\n",
              "    </tr>\n",
              "    <tr>\n",
              "      <th>3</th>\n",
              "      <td>BMT</td>\n",
              "      <td>4 Avenue</td>\n",
              "      <td>36th St</td>\n",
              "      <td>40.655144</td>\n",
              "      <td>-74.003549</td>\n",
              "      <td>N</td>\n",
              "      <td>R</td>\n",
              "      <td>NaN</td>\n",
              "      <td>NaN</td>\n",
              "      <td>NaN</td>\n",
              "      <td>NaN</td>\n",
              "      <td>NaN</td>\n",
              "      <td>NaN</td>\n",
              "      <td>NaN</td>\n",
              "      <td>NaN</td>\n",
              "      <td>NaN</td>\n",
              "      <td>Stair</td>\n",
              "      <td>YES</td>\n",
              "      <td>NaN</td>\n",
              "      <td>YES</td>\n",
              "      <td>FULL</td>\n",
              "      <td>NaN</td>\n",
              "      <td>False</td>\n",
              "      <td>NaN</td>\n",
              "      <td>True</td>\n",
              "      <td>4th Ave</td>\n",
              "      <td>36th St</td>\n",
              "      <td>NE</td>\n",
              "      <td>40.654365</td>\n",
              "      <td>-74.004113</td>\n",
              "      <td>(40.655144, -74.003549)</td>\n",
              "      <td>(40.654365, -74.004113)</td>\n",
              "    </tr>\n",
              "    <tr>\n",
              "      <th>4</th>\n",
              "      <td>BMT</td>\n",
              "      <td>4 Avenue</td>\n",
              "      <td>36th St</td>\n",
              "      <td>40.655144</td>\n",
              "      <td>-74.003549</td>\n",
              "      <td>N</td>\n",
              "      <td>R</td>\n",
              "      <td>NaN</td>\n",
              "      <td>NaN</td>\n",
              "      <td>NaN</td>\n",
              "      <td>NaN</td>\n",
              "      <td>NaN</td>\n",
              "      <td>NaN</td>\n",
              "      <td>NaN</td>\n",
              "      <td>NaN</td>\n",
              "      <td>NaN</td>\n",
              "      <td>Stair</td>\n",
              "      <td>YES</td>\n",
              "      <td>NaN</td>\n",
              "      <td>YES</td>\n",
              "      <td>FULL</td>\n",
              "      <td>NaN</td>\n",
              "      <td>False</td>\n",
              "      <td>NaN</td>\n",
              "      <td>True</td>\n",
              "      <td>4th Ave</td>\n",
              "      <td>36th St</td>\n",
              "      <td>NW</td>\n",
              "      <td>40.654490</td>\n",
              "      <td>-74.004499</td>\n",
              "      <td>(40.655144, -74.003549)</td>\n",
              "      <td>(40.65449, -74.004499)</td>\n",
              "    </tr>\n",
              "    <tr>\n",
              "      <th>...</th>\n",
              "      <td>...</td>\n",
              "      <td>...</td>\n",
              "      <td>...</td>\n",
              "      <td>...</td>\n",
              "      <td>...</td>\n",
              "      <td>...</td>\n",
              "      <td>...</td>\n",
              "      <td>...</td>\n",
              "      <td>...</td>\n",
              "      <td>...</td>\n",
              "      <td>...</td>\n",
              "      <td>...</td>\n",
              "      <td>...</td>\n",
              "      <td>...</td>\n",
              "      <td>...</td>\n",
              "      <td>...</td>\n",
              "      <td>...</td>\n",
              "      <td>...</td>\n",
              "      <td>...</td>\n",
              "      <td>...</td>\n",
              "      <td>...</td>\n",
              "      <td>...</td>\n",
              "      <td>...</td>\n",
              "      <td>...</td>\n",
              "      <td>...</td>\n",
              "      <td>...</td>\n",
              "      <td>...</td>\n",
              "      <td>...</td>\n",
              "      <td>...</td>\n",
              "      <td>...</td>\n",
              "      <td>...</td>\n",
              "      <td>...</td>\n",
              "    </tr>\n",
              "    <tr>\n",
              "      <th>95</th>\n",
              "      <td>BMT</td>\n",
              "      <td>Brighton</td>\n",
              "      <td>Kings Highway</td>\n",
              "      <td>40.608670</td>\n",
              "      <td>-73.957734</td>\n",
              "      <td>B</td>\n",
              "      <td>Q</td>\n",
              "      <td>NaN</td>\n",
              "      <td>NaN</td>\n",
              "      <td>NaN</td>\n",
              "      <td>NaN</td>\n",
              "      <td>NaN</td>\n",
              "      <td>NaN</td>\n",
              "      <td>NaN</td>\n",
              "      <td>NaN</td>\n",
              "      <td>NaN</td>\n",
              "      <td>Door</td>\n",
              "      <td>YES</td>\n",
              "      <td>NaN</td>\n",
              "      <td>YES</td>\n",
              "      <td>NONE</td>\n",
              "      <td>NaN</td>\n",
              "      <td>False</td>\n",
              "      <td>NaN</td>\n",
              "      <td>True</td>\n",
              "      <td>15th St</td>\n",
              "      <td>Kings Hwy</td>\n",
              "      <td>NE</td>\n",
              "      <td>40.609062</td>\n",
              "      <td>-73.957808</td>\n",
              "      <td>(40.60867, -73.957734)</td>\n",
              "      <td>(40.609062, -73.957808)</td>\n",
              "    </tr>\n",
              "    <tr>\n",
              "      <th>96</th>\n",
              "      <td>BMT</td>\n",
              "      <td>Brighton</td>\n",
              "      <td>Kings Highway</td>\n",
              "      <td>40.608670</td>\n",
              "      <td>-73.957734</td>\n",
              "      <td>B</td>\n",
              "      <td>Q</td>\n",
              "      <td>NaN</td>\n",
              "      <td>NaN</td>\n",
              "      <td>NaN</td>\n",
              "      <td>NaN</td>\n",
              "      <td>NaN</td>\n",
              "      <td>NaN</td>\n",
              "      <td>NaN</td>\n",
              "      <td>NaN</td>\n",
              "      <td>NaN</td>\n",
              "      <td>Door</td>\n",
              "      <td>YES</td>\n",
              "      <td>NaN</td>\n",
              "      <td>YES</td>\n",
              "      <td>FULL</td>\n",
              "      <td>NaN</td>\n",
              "      <td>False</td>\n",
              "      <td>NaN</td>\n",
              "      <td>True</td>\n",
              "      <td>15th St</td>\n",
              "      <td>Kings Hwy</td>\n",
              "      <td>SE</td>\n",
              "      <td>40.608835</td>\n",
              "      <td>-73.957769</td>\n",
              "      <td>(40.60867, -73.957734)</td>\n",
              "      <td>(40.608835, -73.957769)</td>\n",
              "    </tr>\n",
              "    <tr>\n",
              "      <th>97</th>\n",
              "      <td>BMT</td>\n",
              "      <td>Brighton</td>\n",
              "      <td>Kings Highway</td>\n",
              "      <td>40.608670</td>\n",
              "      <td>-73.957734</td>\n",
              "      <td>B</td>\n",
              "      <td>Q</td>\n",
              "      <td>NaN</td>\n",
              "      <td>NaN</td>\n",
              "      <td>NaN</td>\n",
              "      <td>NaN</td>\n",
              "      <td>NaN</td>\n",
              "      <td>NaN</td>\n",
              "      <td>NaN</td>\n",
              "      <td>NaN</td>\n",
              "      <td>NaN</td>\n",
              "      <td>Door</td>\n",
              "      <td>YES</td>\n",
              "      <td>NaN</td>\n",
              "      <td>YES</td>\n",
              "      <td>PART</td>\n",
              "      <td>NaN</td>\n",
              "      <td>False</td>\n",
              "      <td>NaN</td>\n",
              "      <td>True</td>\n",
              "      <td>NaN</td>\n",
              "      <td>NaN</td>\n",
              "      <td>W</td>\n",
              "      <td>40.608319</td>\n",
              "      <td>-73.957352</td>\n",
              "      <td>(40.60867, -73.957734)</td>\n",
              "      <td>(40.608319, -73.957352)</td>\n",
              "    </tr>\n",
              "    <tr>\n",
              "      <th>98</th>\n",
              "      <td>BMT</td>\n",
              "      <td>Brighton</td>\n",
              "      <td>Neck Rd</td>\n",
              "      <td>40.595246</td>\n",
              "      <td>-73.955161</td>\n",
              "      <td>B</td>\n",
              "      <td>Q</td>\n",
              "      <td>NaN</td>\n",
              "      <td>NaN</td>\n",
              "      <td>NaN</td>\n",
              "      <td>NaN</td>\n",
              "      <td>NaN</td>\n",
              "      <td>NaN</td>\n",
              "      <td>NaN</td>\n",
              "      <td>NaN</td>\n",
              "      <td>NaN</td>\n",
              "      <td>Door</td>\n",
              "      <td>YES</td>\n",
              "      <td>NaN</td>\n",
              "      <td>YES</td>\n",
              "      <td>FULL</td>\n",
              "      <td>NaN</td>\n",
              "      <td>False</td>\n",
              "      <td>NaN</td>\n",
              "      <td>True</td>\n",
              "      <td>15th St</td>\n",
              "      <td>Gravesend Neck Rd</td>\n",
              "      <td>NE</td>\n",
              "      <td>40.595020</td>\n",
              "      <td>-73.955120</td>\n",
              "      <td>(40.595246, -73.955161)</td>\n",
              "      <td>(40.59502, -73.95512)</td>\n",
              "    </tr>\n",
              "    <tr>\n",
              "      <th>99</th>\n",
              "      <td>BMT</td>\n",
              "      <td>Brighton</td>\n",
              "      <td>Newkirk Av</td>\n",
              "      <td>40.635082</td>\n",
              "      <td>-73.962793</td>\n",
              "      <td>B</td>\n",
              "      <td>Q</td>\n",
              "      <td>NaN</td>\n",
              "      <td>NaN</td>\n",
              "      <td>NaN</td>\n",
              "      <td>NaN</td>\n",
              "      <td>NaN</td>\n",
              "      <td>NaN</td>\n",
              "      <td>NaN</td>\n",
              "      <td>NaN</td>\n",
              "      <td>NaN</td>\n",
              "      <td>Door</td>\n",
              "      <td>YES</td>\n",
              "      <td>NaN</td>\n",
              "      <td>YES</td>\n",
              "      <td>FULL</td>\n",
              "      <td>NaN</td>\n",
              "      <td>False</td>\n",
              "      <td>NaN</td>\n",
              "      <td>True</td>\n",
              "      <td>Marlborough Rd</td>\n",
              "      <td>Newkirk Ave</td>\n",
              "      <td>SE</td>\n",
              "      <td>40.635034</td>\n",
              "      <td>-73.962736</td>\n",
              "      <td>(40.635082, -73.962793)</td>\n",
              "      <td>(40.635034, -73.962736)</td>\n",
              "    </tr>\n",
              "  </tbody>\n",
              "</table>\n",
              "<p>100 rows × 32 columns</p>\n",
              "</div>"
            ],
            "text/plain": [
              "   Division      Line  ...         Station Location        Entrance Location\n",
              "0       BMT  4 Avenue  ...  (40.660397, -73.998091)   (40.660489, -73.99822)\n",
              "1       BMT  4 Avenue  ...  (40.660397, -73.998091)  (40.660323, -73.997952)\n",
              "2       BMT  4 Avenue  ...  (40.655144, -74.003549)  (40.654676, -74.004306)\n",
              "3       BMT  4 Avenue  ...  (40.655144, -74.003549)  (40.654365, -74.004113)\n",
              "4       BMT  4 Avenue  ...  (40.655144, -74.003549)   (40.65449, -74.004499)\n",
              "..      ...       ...  ...                      ...                      ...\n",
              "95      BMT  Brighton  ...   (40.60867, -73.957734)  (40.609062, -73.957808)\n",
              "96      BMT  Brighton  ...   (40.60867, -73.957734)  (40.608835, -73.957769)\n",
              "97      BMT  Brighton  ...   (40.60867, -73.957734)  (40.608319, -73.957352)\n",
              "98      BMT  Brighton  ...  (40.595246, -73.955161)    (40.59502, -73.95512)\n",
              "99      BMT  Brighton  ...  (40.635082, -73.962793)  (40.635034, -73.962736)\n",
              "\n",
              "[100 rows x 32 columns]"
            ]
          },
          "metadata": {
            "tags": []
          },
          "execution_count": 7
        }
      ]
    },
    {
      "cell_type": "markdown",
      "metadata": {
        "id": "7YuRmB-d0Jhs"
      },
      "source": [
        "# Pre-processing the Data"
      ]
    },
    {
      "cell_type": "markdown",
      "metadata": {
        "id": "34YqO6pVP-IU"
      },
      "source": [
        "## Pre-processing NYC AirBnb data"
      ]
    },
    {
      "cell_type": "markdown",
      "metadata": {
        "id": "DRx7FESayEG_"
      },
      "source": [
        "We used \"set\" function to process our data and determine the name of the neighbourhood groups we have in our data, easily."
      ]
    },
    {
      "cell_type": "code",
      "metadata": {
        "id": "XGL3qBcVhNgZ",
        "colab": {
          "base_uri": "https://localhost:8080/"
        },
        "outputId": "e333ac03-847d-444b-dd40-96ea1d5c17bd"
      },
      "source": [
        "neighbourhood_group = tuple(set(df[\"neighbourhood_group\"]))\n",
        "print(neighbourhood_group)"
      ],
      "execution_count": null,
      "outputs": [
        {
          "output_type": "stream",
          "text": [
            "('Manhattan', 'Brooklyn', 'Staten Island', 'Queens', 'Bronx')\n"
          ],
          "name": "stdout"
        }
      ]
    },
    {
      "cell_type": "markdown",
      "metadata": {
        "id": "hgcGBHvyBHpX"
      },
      "source": [
        "We use \"set\" function again but this time we are processing the data to determine our room types"
      ]
    },
    {
      "cell_type": "code",
      "metadata": {
        "id": "4o7c5ISxBG9i",
        "colab": {
          "base_uri": "https://localhost:8080/"
        },
        "outputId": "ea3a0981-073a-4b0a-9654-dad26758f396"
      },
      "source": [
        "room_type = tuple(set(df[\"room_type\"]))\n",
        "print(room_type)"
      ],
      "execution_count": null,
      "outputs": [
        {
          "output_type": "stream",
          "text": [
            "('Private room', 'Shared room', 'Entire home/apt')\n"
          ],
          "name": "stdout"
        }
      ]
    },
    {
      "cell_type": "markdown",
      "metadata": {
        "id": "Rp7QdtEF0b5A"
      },
      "source": [
        "We are dividing our data based on the regions we have, so that we can use them later when we need them seperated."
      ]
    },
    {
      "cell_type": "code",
      "metadata": {
        "id": "ZccginjD0aB2"
      },
      "source": [
        "brooklyn_set = df[df[\"neighbourhood_group\"] == \"Brooklyn\"]\n",
        "manhattan_set = df[df[\"neighbourhood_group\"] == \"Manhattan\"]\n",
        "queens_set = df[df[\"neighbourhood_group\"] == \"Queens\"]\n",
        "staten_island_set = df[df[\"neighbourhood_group\"] == \"Staten Island\"]\n",
        "bronx_set = df[df[\"neighbourhood_group\"] == \"Bronx\"]"
      ],
      "execution_count": null,
      "outputs": []
    },
    {
      "cell_type": "markdown",
      "metadata": {
        "id": "6Rt99rHzCiyp"
      },
      "source": [
        "Also we are dividing our data based on the room types of the house so that we can use it whenever needed"
      ]
    },
    {
      "cell_type": "code",
      "metadata": {
        "id": "4zF1VPXmBVR_"
      },
      "source": [
        "entire_home_set = df[df[\"room_type\"] == \"Entire home/apt\"]\n",
        "shared_room_set = df[df[\"room_type\"] == \"Shared room\"]\n",
        "private_room_set = df[df[\"room_type\"] == \"Private room\"]"
      ],
      "execution_count": null,
      "outputs": []
    },
    {
      "cell_type": "markdown",
      "metadata": {
        "id": "i9PZIh7dqbpQ"
      },
      "source": [
        "### Average price in neighbourhood groups\n",
        "\n",
        "---\n",
        "\n"
      ]
    },
    {
      "cell_type": "code",
      "metadata": {
        "id": "SzrlSzrzqaxV",
        "colab": {
          "base_uri": "https://localhost:8080/"
        },
        "outputId": "1f745ee8-4ad8-4ed3-e759-2bc295f40ffc"
      },
      "source": [
        "brooklyn_price = brooklyn_set[\"price\"]\n",
        "brooklyn_price_avg = (format(brooklyn_price.sum()/len(brooklyn_price),\".2f\") )\n",
        "\n",
        "manhattan_price = manhattan_set[\"price\"]\n",
        "manhattan_price_avg = (format(manhattan_price.sum()/len(manhattan_price),\".2f\"))\n",
        "\n",
        "queens_price = queens_set[\"price\"]\n",
        "queens_price_avg = (format(queens_price.sum()/len(queens_price),\".2f\"))\n",
        "\n",
        "staten_island_price = staten_island_set[\"price\"]\n",
        "staten_island_price_avg = (format(staten_island_price.sum()/len(staten_island_price),\".2f\"))\n",
        "\n",
        "bronx_price = bronx_set[\"price\"]\n",
        "bronx_price_avg = (format(bronx_price.sum()/len(bronx_price),\".2f\"))\n",
        "\n",
        "print(\"Average rental prices by $ (per day) in: \")\n",
        "print(\"Brooklyn:\", brooklyn_price_avg )\n",
        "print(\"Manhattan:\", manhattan_price_avg)\n",
        "print(\"Queens:\", queens_price_avg)\n",
        "print(\"Staten Island:\", staten_island_price_avg)\n",
        "print(\"Bronx:\", bronx_price_avg)"
      ],
      "execution_count": null,
      "outputs": [
        {
          "output_type": "stream",
          "text": [
            "Average rental prices by $ (per day) in: \n",
            "Brooklyn: 124.38\n",
            "Manhattan: 196.88\n",
            "Queens: 99.52\n",
            "Staten Island: 114.81\n",
            "Bronx: 87.50\n"
          ],
          "name": "stdout"
        }
      ]
    },
    {
      "cell_type": "markdown",
      "metadata": {
        "id": "JxRYixqwMNnK"
      },
      "source": [
        "### Average price in room types"
      ]
    },
    {
      "cell_type": "code",
      "metadata": {
        "id": "F9cAE8zOMRhL",
        "colab": {
          "base_uri": "https://localhost:8080/"
        },
        "outputId": "ba988427-256b-4998-eec5-3ff3350c1c90"
      },
      "source": [
        "entire_home_price = entire_home_set[\"price\"]\n",
        "entire_home_price_avg = format(entire_home_price.sum()/len(entire_home_price),\".2f\")\n",
        "\n",
        "shared_room_price = shared_room_set[\"price\"]\n",
        "shared_room_price_avg = format(shared_room_price.sum()/len(shared_room_price),\".2f\")\n",
        "\n",
        "private_room_price = private_room_set[\"price\"]\n",
        "private_room_price_avg = format(private_room_price.sum()/len(private_room_price),\".2f\")\n",
        "\n",
        "print(\"Average rental prices by $ (per day) when: \")\n",
        "print(\"Entire home/apt:\", entire_home_price_avg)\n",
        "print(\"Shared room:\", shared_room_price_avg)\n",
        "print(\"Private room:\", private_room_price_avg)"
      ],
      "execution_count": null,
      "outputs": [
        {
          "output_type": "stream",
          "text": [
            "Average rental prices by $ (per day) when: \n",
            "Entire home/apt: 211.79\n",
            "Shared room: 70.13\n",
            "Private room: 89.78\n"
          ],
          "name": "stdout"
        }
      ]
    },
    {
      "cell_type": "markdown",
      "metadata": {
        "id": "QaotksZC99Rw"
      },
      "source": [
        "###Number of room types in neighbourhood groups"
      ]
    },
    {
      "cell_type": "code",
      "metadata": {
        "id": "D2kFBRab98hi"
      },
      "source": [
        "m_df = manhattan_set[manhattan_set[\"room_type\"] == \"Entire home/apt\"]\n",
        "man_entire = len(m_df)\n",
        "b_df = brooklyn_set[brooklyn_set[\"room_type\"] == \"Entire home/apt\"]\n",
        "brk_entire = len(b_df)\n",
        "q_df = queens_set[queens_set[\"room_type\"] == \"Entire home/apt\"]\n",
        "queens_entire = len(q_df)\n",
        "si_df = staten_island_set[staten_island_set[\"room_type\"] == \"Entire home/apt\"]\n",
        "si_entire = len(si_df)\n",
        "bx_df = bronx_set[bronx_set[\"room_type\"] == \"Entire home/apt\"]\n",
        "bx_entire = len(bx_df)\n",
        "\n",
        "m1_df = manhattan_set[manhattan_set[\"room_type\"] == \"Private room\"]\n",
        "man_priv = len(m1_df)\n",
        "b1_df = brooklyn_set[brooklyn_set[\"room_type\"] == \"Private room\"]\n",
        "brk_priv = len(b1_df)\n",
        "q1_df = queens_set[queens_set[\"room_type\"] == \"Private room\"]\n",
        "queens_priv = len(q1_df)\n",
        "si1_df = staten_island_set[staten_island_set[\"room_type\"] == \"Private room\"]\n",
        "si_priv = len(si1_df)\n",
        "bx1_df = bronx_set[bronx_set[\"room_type\"] == \"Private room\"]\n",
        "bx_priv = len(bx1_df)\n",
        "\n",
        "m2_df = manhattan_set[manhattan_set[\"room_type\"] == \"Shared room\"]\n",
        "man_share = len(m2_df)\n",
        "b2_df = brooklyn_set[brooklyn_set[\"room_type\"] == \"Shared room\"]\n",
        "brk_share = len(b2_df)\n",
        "q2_df = queens_set[queens_set[\"room_type\"] == \"Shared room\"]\n",
        "queens_share = len(q2_df)\n",
        "si2_df = staten_island_set[staten_island_set[\"room_type\"] == \"Shared room\"]\n",
        "si_share = len(si2_df)\n",
        "bx2_df = bronx_set[bronx_set[\"room_type\"] == \"Shared room\"]\n",
        "bx_share = len(bx2_df)"
      ],
      "execution_count": null,
      "outputs": []
    },
    {
      "cell_type": "markdown",
      "metadata": {
        "id": "oMPunrBrQLGw"
      },
      "source": [
        "## Pre-processing NYC Subway data"
      ]
    },
    {
      "cell_type": "markdown",
      "metadata": {
        "id": "HREJRUlRRY9_"
      },
      "source": [
        "We are processing our Subway data to determine the names of the stations, we will use the coordinates of these stations to have some distance values between AirBnb's and the subway."
      ]
    },
    {
      "cell_type": "code",
      "metadata": {
        "id": "gSaV-LnIQOOs",
        "colab": {
          "base_uri": "https://localhost:8080/"
        },
        "outputId": "46d186bf-ccc9-4c88-f040-74b3003b24e9"
      },
      "source": [
        "station_name = tuple(set(df_1[\"Station Name\"]))\n",
        "print(station_name)"
      ],
      "execution_count": null,
      "outputs": [
        {
          "output_type": "stream",
          "text": [
            "('Kingsbridge Rd', 'Times Square', '137th St-City College', '116th St', 'Bleecker St', 'Forest Hills-71st Av', 'Neptune Av-Van Siclen', 'Bay Parkway', 'Wakefield-241st St', 'Rockaway Blvd', 'Bowery', '225th St', 'City Hall', 'Cypress Hills', '181st St', 'Fordham Rd', 'Bushwick Av', 'Intervale Av', '53rd St', 'Spring St', 'DeKalb Av', 'Freeman St', 'Sutter Av', 'Queens Plaza', 'Av X', '135th St', '90th St Elmhurst', '51st St', 'East Broadway', '50th St', 'Whitehall St', '176th St', 'Bronx Park East', 'Church Av', 'East 180th St', 'Allerton Av', '63rd Drive-Rego Park', 'Buhre Av', '75th Av', '18th St', 'Flushing-Main St', '66th St-Lincoln Center', '155th St', 'Pacific St', '4th Av', 'High St', 'Alabama Av', 'Far Rockaway-Mott Av', 'East 105th St', 'Av H', '207th St', 'Beach 25th St', '82nd St-Jackson Heights', 'Ralph Av', 'Beach 67th St', 'New Lots Av', 'Lowery St-40th St', 'Ocean Parkway', '170th St', '111th St', 'Kosciusko St', 'Christopher St', 'Mets - Willets Point', '121st St', 'Halsey St', 'Astoria Blvd-Hoyt Av', '46th St', 'Woodside Av-61st St', 'Broad Channel', '88th St-Boyd Av', 'Whitlock Av', 'Burke Av', 'Bedford Park Blvd', 'Bowling Green', '36 Av-Washington Av', 'Canal St', '67th Av', 'Grand Central', 'Rawson St-33rd St', 'Broadway', 'Av N', 'Myrtle Av', 'Clinton-Washington Avs', '125th St', '104th St-Oxford Av', '96th St', 'Atlantic Av-Barclays Ctr', 'Harlem-148th St', '168th St', '34th St', 'Hoyt St', 'Central Av', 'Roosevelt Island', 'Baychester Av', 'New Utrecht Av', '145th St', 'Morris Park', '231st St', 'Beach 90th St', 'Prospect Av', 'Kingston-Throop', 'Wilson Av', 'Winthrop St', '103rd St', 'Liberty Av', 'Flatbush Av-Brooklyn College', 'Lefferts Blvd', 'Botanic Gardens', '28th St', 'Grand Army Plaza', '8th Av', '95th St', 'Aqueduct Racetrack', 'Vernon Blvd-Jackson Av', '219th St', 'Knickerbocker Av', 'Canal St (UL)', 'Bedford Av', 'Prince St', 'Parkchester-East 177th St', 'Forest Av', '238th St-Nereid Av', 'Park Place', '36th St', '9th Av', '9th St', 'Fresh Pond Rd', 'Morrison Av-Soundview Av', 'Ditmars Blvd', 'Van Siclen Av', 'Lincoln Av-52nd St', 'Jackson Heights-Roosevelt Ave', '59th St-Columbus Circle', \"East 143rd St-St Mary's St\", 'Forest Parkway-85th St', 'Fisk Av-69th St', 'Saratoga Av', 'Queensboro Plaza', 'Delancey St', '233rd St', '110th St-Central Park North', '80th St-Hudson St', '62nd St', '183rd St', 'Utica Av', 'Kingston Av', '174-175th Sts', '169th St', 'Jay St - Borough Hall', 'Cortlandt St', 'Mosholu Parkway', 'Wall St', 'Bliss St-46th St', '39 Av-Beebe Av', 'Essex St', 'Clark St', 'St Lawrence Av', '215th St', '182nd-183rd Sts', 'Van Cortlandt Park-242nd St', 'Graham Av', 'Myrtle-Willoughby Avs', '45 Rd-Court House Sq', 'Union St', 'Lorimer St', 'Woodhaven Blvd', 'Ditmas Av', 'Grand St', '79th St', 'Simpson St', '47-50th Sts Rockefeller Center', '168th St - Washington Heights', 'Borough Hall', 'Av J', 'Bedford-Nostrand Avs', 'Marcy Av', '23rd St-Ely Av', 'Times Square-42nd St', 'Av P', 'Briarwood-Van Wyck Blvd', '111th St-Greenwood Av', '167th St', '42nd St', '45th St', 'Parkside Av', 'Castle Hill Av', 'Marble Hill-225th St', 'Broadway-Nassau', 'Newkirk Av', 'Sutphin Blvd-Archer Av - JFK', 'Lexington Av', '138th St-3rd Ave', '30 Av-Grand Av', 'Broadway Junction-East New York', 'Nostrand Av', 'Crescent St', '1st Av', '163rd St - Amsterdam Av', 'Norwood Av', 'Zerega Av', 'Junius St', 'Westchester Square-East Tremont Av', 'Cathedral Parkway-110th St', 'Chauncey St', 'Jamaica-Van Wyck', '18th Av', 'Euclid Av', 'Prospect Park', 'Broadway-Lafayette St', 'Classon Av', 'Greenpoint Av', 'Dyckman St-200th St', 'Av M', '3rd Av', '7th Av', 'Neck Rd', 'Canarsie - Rockaway Parkway', 'Burnside Av', '138th St', 'Brighton Beach', '21st St', '55th St', 'Smith-9th St', 'Metropolitan Av', 'Sheepshead Bay', 'Cortelyou Rd', 'Dyckman St', 'Clinton & Washington Avs', '149th St-3rd Av', '25th St', '157th St', 'Bay Ridge Av', '110th St', '72nd St', '65th St', '71st St', 'Prospect Park-15 St', '68th St-Hunter College', 'York St', 'Livonia Av', 'Beach 44th St', '20th Av', '190th St', 'Steinway St', 'Hewes St', 'Brooklyn Bridge-City Hall', 'Av I', '5th Av-53rd St', '23rd St', 'World Trade Center', 'Houston St', 'Chambers St', '104th St-102nd St', '149th St-Grand Concourse', '2nd Av', 'Gun Hill Rd', 'Cleveland St', 'East 149th St', 'Sterling St', 'Union Square', 'Grand Central-42nd St', 'Montrose Av', '175th St', 'Atlantic Av', 'Bay Parkway-22nd Av', '5th Av', 'Rockaway Av', 'Cypress Av', '14th St-Union Square', 'South Ferry', '116th St-Columbia University', 'Beverly Rd', 'Nassau Av', '57th St', 'Pelham Parkway', 'Pennsylvania Av', '25th Av', 'Fort Hamilton Parkway', 'Northern Blvd', 'Parsons Blvd-Archer Av - Jamaica Center', 'Norwood-205th St', 'Fulton St', 'Beach 60th St', 'Elderts Lane-75th St', '238th St', 'Hoyt & Schermerhorn', 'Eastern Parkway-Brooklyn Museum', 'Long Island City-Court Square', 'Grand Av-Newtown', '174th St', 'Rector St', 'West 4th St', 'Hunters Point', 'Gates Av', 'Brook Av', '81st St - Museum of Natural History', 'Beach 105th St', 'Nevins St', '49th St', 'West 8th St', '34 St Hudson Yards', 'Aqueduct-North Conduit Av', 'Inwood - 207th St', 'Pelham Bay Park', '6th Av', 'Astor Place', 'Howard Beach', 'Elmhurst Av', 'Longwood Av', 'Eastchester-Dyre Av', 'Hunts Point Av', 'Stillwell Av', '77th St', 'Jamaica-179th St', 'Bergen St', 'Kew Gardens-Union Turnpike', 'Flushing Av', 'Jackson Av', '86th St', 'Rockaway Park-Beach 116th', '14th St', 'Broadway-74th St', 'Tremont Av', 'Seneca Av', 'Broad St', 'Franklin St', 'Mt Eden Av', 'Beach 98th St', 'Morgan Av', 'Kings Highway', 'Middletown Rd', 'Jefferson St', '33rd St', 'Shepherd Av', '59th St', 'Franklin Av', 'Court St', 'Bay 50th St', 'Bedford Park Blvd-Lehman College', 'Lafayette Av', 'East Tremont Av-West Farms Sq', '191st St', 'Lawrence St', 'President St', 'Lexington Av-53rd St', 'Woodlawn', 'Beach 36th St', 'Parsons Blvd', 'Sutphin Blvd', 'Av U', 'Grant Av', 'Elder Av', '8th St', 'Yankee Stadium-161st St', 'Carroll St', 'Junction Blvd')\n"
          ],
          "name": "stdout"
        }
      ]
    },
    {
      "cell_type": "code",
      "metadata": {
        "id": "rIb8rsqvvsgE",
        "colab": {
          "base_uri": "https://localhost:8080/",
          "height": 1000
        },
        "outputId": "3de5bc88-1559-408f-9c1c-7fb1b969ce8d"
      },
      "source": [
        "df_1 = df_1.drop_duplicates(\"Station Name\", keep='first', inplace=False)\n",
        "df_1.head(50)"
      ],
      "execution_count": null,
      "outputs": [
        {
          "output_type": "execute_result",
          "data": {
            "text/html": [
              "<div>\n",
              "<style scoped>\n",
              "    .dataframe tbody tr th:only-of-type {\n",
              "        vertical-align: middle;\n",
              "    }\n",
              "\n",
              "    .dataframe tbody tr th {\n",
              "        vertical-align: top;\n",
              "    }\n",
              "\n",
              "    .dataframe thead th {\n",
              "        text-align: right;\n",
              "    }\n",
              "</style>\n",
              "<table border=\"1\" class=\"dataframe\">\n",
              "  <thead>\n",
              "    <tr style=\"text-align: right;\">\n",
              "      <th></th>\n",
              "      <th>Division</th>\n",
              "      <th>Line</th>\n",
              "      <th>Station Name</th>\n",
              "      <th>Station Latitude</th>\n",
              "      <th>Station Longitude</th>\n",
              "      <th>Route1</th>\n",
              "      <th>Route2</th>\n",
              "      <th>Route3</th>\n",
              "      <th>Route4</th>\n",
              "      <th>Route5</th>\n",
              "      <th>Route6</th>\n",
              "      <th>Route7</th>\n",
              "      <th>Route8</th>\n",
              "      <th>Route9</th>\n",
              "      <th>Route10</th>\n",
              "      <th>Route11</th>\n",
              "      <th>Entrance Type</th>\n",
              "      <th>Entry</th>\n",
              "      <th>Exit Only</th>\n",
              "      <th>Vending</th>\n",
              "      <th>Staffing</th>\n",
              "      <th>Staff Hours</th>\n",
              "      <th>ADA</th>\n",
              "      <th>ADA Notes</th>\n",
              "      <th>Free Crossover</th>\n",
              "      <th>North South Street</th>\n",
              "      <th>East West Street</th>\n",
              "      <th>Corner</th>\n",
              "      <th>Entrance Latitude</th>\n",
              "      <th>Entrance Longitude</th>\n",
              "      <th>Station Location</th>\n",
              "      <th>Entrance Location</th>\n",
              "    </tr>\n",
              "  </thead>\n",
              "  <tbody>\n",
              "    <tr>\n",
              "      <th>0</th>\n",
              "      <td>BMT</td>\n",
              "      <td>4 Avenue</td>\n",
              "      <td>25th St</td>\n",
              "      <td>40.660397</td>\n",
              "      <td>-73.998091</td>\n",
              "      <td>R</td>\n",
              "      <td>NaN</td>\n",
              "      <td>NaN</td>\n",
              "      <td>NaN</td>\n",
              "      <td>NaN</td>\n",
              "      <td>NaN</td>\n",
              "      <td>NaN</td>\n",
              "      <td>NaN</td>\n",
              "      <td>NaN</td>\n",
              "      <td>NaN</td>\n",
              "      <td>NaN</td>\n",
              "      <td>Stair</td>\n",
              "      <td>YES</td>\n",
              "      <td>NaN</td>\n",
              "      <td>YES</td>\n",
              "      <td>NONE</td>\n",
              "      <td>NaN</td>\n",
              "      <td>False</td>\n",
              "      <td>NaN</td>\n",
              "      <td>False</td>\n",
              "      <td>4th Ave</td>\n",
              "      <td>25th St</td>\n",
              "      <td>SW</td>\n",
              "      <td>40.660489</td>\n",
              "      <td>-73.998220</td>\n",
              "      <td>(40.660397, -73.998091)</td>\n",
              "      <td>(40.660489, -73.99822)</td>\n",
              "    </tr>\n",
              "    <tr>\n",
              "      <th>2</th>\n",
              "      <td>BMT</td>\n",
              "      <td>4 Avenue</td>\n",
              "      <td>36th St</td>\n",
              "      <td>40.655144</td>\n",
              "      <td>-74.003549</td>\n",
              "      <td>N</td>\n",
              "      <td>R</td>\n",
              "      <td>NaN</td>\n",
              "      <td>NaN</td>\n",
              "      <td>NaN</td>\n",
              "      <td>NaN</td>\n",
              "      <td>NaN</td>\n",
              "      <td>NaN</td>\n",
              "      <td>NaN</td>\n",
              "      <td>NaN</td>\n",
              "      <td>NaN</td>\n",
              "      <td>Stair</td>\n",
              "      <td>YES</td>\n",
              "      <td>NaN</td>\n",
              "      <td>YES</td>\n",
              "      <td>FULL</td>\n",
              "      <td>NaN</td>\n",
              "      <td>False</td>\n",
              "      <td>NaN</td>\n",
              "      <td>True</td>\n",
              "      <td>4th Ave</td>\n",
              "      <td>36th St</td>\n",
              "      <td>NW</td>\n",
              "      <td>40.654676</td>\n",
              "      <td>-74.004306</td>\n",
              "      <td>(40.655144, -74.003549)</td>\n",
              "      <td>(40.654676, -74.004306)</td>\n",
              "    </tr>\n",
              "    <tr>\n",
              "      <th>5</th>\n",
              "      <td>BMT</td>\n",
              "      <td>4 Avenue</td>\n",
              "      <td>45th St</td>\n",
              "      <td>40.648939</td>\n",
              "      <td>-74.010006</td>\n",
              "      <td>R</td>\n",
              "      <td>NaN</td>\n",
              "      <td>NaN</td>\n",
              "      <td>NaN</td>\n",
              "      <td>NaN</td>\n",
              "      <td>NaN</td>\n",
              "      <td>NaN</td>\n",
              "      <td>NaN</td>\n",
              "      <td>NaN</td>\n",
              "      <td>NaN</td>\n",
              "      <td>NaN</td>\n",
              "      <td>Stair</td>\n",
              "      <td>YES</td>\n",
              "      <td>NaN</td>\n",
              "      <td>YES</td>\n",
              "      <td>FULL</td>\n",
              "      <td>NaN</td>\n",
              "      <td>False</td>\n",
              "      <td>NaN</td>\n",
              "      <td>True</td>\n",
              "      <td>4th Ave</td>\n",
              "      <td>45th St</td>\n",
              "      <td>NE</td>\n",
              "      <td>40.649389</td>\n",
              "      <td>-74.009333</td>\n",
              "      <td>(40.648939, -74.010006)</td>\n",
              "      <td>(40.649389, -74.009333)</td>\n",
              "    </tr>\n",
              "    <tr>\n",
              "      <th>9</th>\n",
              "      <td>BMT</td>\n",
              "      <td>4 Avenue</td>\n",
              "      <td>53rd St</td>\n",
              "      <td>40.645069</td>\n",
              "      <td>-74.014034</td>\n",
              "      <td>R</td>\n",
              "      <td>NaN</td>\n",
              "      <td>NaN</td>\n",
              "      <td>NaN</td>\n",
              "      <td>NaN</td>\n",
              "      <td>NaN</td>\n",
              "      <td>NaN</td>\n",
              "      <td>NaN</td>\n",
              "      <td>NaN</td>\n",
              "      <td>NaN</td>\n",
              "      <td>NaN</td>\n",
              "      <td>Stair</td>\n",
              "      <td>YES</td>\n",
              "      <td>NaN</td>\n",
              "      <td>YES</td>\n",
              "      <td>FULL</td>\n",
              "      <td>NaN</td>\n",
              "      <td>False</td>\n",
              "      <td>NaN</td>\n",
              "      <td>True</td>\n",
              "      <td>4th Ave</td>\n",
              "      <td>53rd St</td>\n",
              "      <td>SW</td>\n",
              "      <td>40.644756</td>\n",
              "      <td>-74.014586</td>\n",
              "      <td>(40.645069, -74.014034)</td>\n",
              "      <td>(40.644756, -74.014586)</td>\n",
              "    </tr>\n",
              "    <tr>\n",
              "      <th>14</th>\n",
              "      <td>BMT</td>\n",
              "      <td>4 Avenue</td>\n",
              "      <td>59th St</td>\n",
              "      <td>40.641362</td>\n",
              "      <td>-74.017881</td>\n",
              "      <td>N</td>\n",
              "      <td>R</td>\n",
              "      <td>NaN</td>\n",
              "      <td>NaN</td>\n",
              "      <td>NaN</td>\n",
              "      <td>NaN</td>\n",
              "      <td>NaN</td>\n",
              "      <td>NaN</td>\n",
              "      <td>NaN</td>\n",
              "      <td>NaN</td>\n",
              "      <td>NaN</td>\n",
              "      <td>Stair</td>\n",
              "      <td>YES</td>\n",
              "      <td>NaN</td>\n",
              "      <td>YES</td>\n",
              "      <td>FULL</td>\n",
              "      <td>NaN</td>\n",
              "      <td>False</td>\n",
              "      <td>NaN</td>\n",
              "      <td>True</td>\n",
              "      <td>4th Ave</td>\n",
              "      <td>59th St</td>\n",
              "      <td>NW</td>\n",
              "      <td>40.641606</td>\n",
              "      <td>-74.017897</td>\n",
              "      <td>(40.641362, -74.017881)</td>\n",
              "      <td>(40.641606, -74.017897)</td>\n",
              "    </tr>\n",
              "    <tr>\n",
              "      <th>20</th>\n",
              "      <td>BMT</td>\n",
              "      <td>4 Avenue</td>\n",
              "      <td>77th St</td>\n",
              "      <td>40.629742</td>\n",
              "      <td>-74.025510</td>\n",
              "      <td>R</td>\n",
              "      <td>NaN</td>\n",
              "      <td>NaN</td>\n",
              "      <td>NaN</td>\n",
              "      <td>NaN</td>\n",
              "      <td>NaN</td>\n",
              "      <td>NaN</td>\n",
              "      <td>NaN</td>\n",
              "      <td>NaN</td>\n",
              "      <td>NaN</td>\n",
              "      <td>NaN</td>\n",
              "      <td>Stair</td>\n",
              "      <td>YES</td>\n",
              "      <td>NaN</td>\n",
              "      <td>YES</td>\n",
              "      <td>FULL</td>\n",
              "      <td>NaN</td>\n",
              "      <td>False</td>\n",
              "      <td>NaN</td>\n",
              "      <td>True</td>\n",
              "      <td>4th Ave</td>\n",
              "      <td>77th St</td>\n",
              "      <td>NW</td>\n",
              "      <td>40.629550</td>\n",
              "      <td>-74.025731</td>\n",
              "      <td>(40.629742, -74.02551)</td>\n",
              "      <td>(40.62955, -74.025731)</td>\n",
              "    </tr>\n",
              "    <tr>\n",
              "      <th>23</th>\n",
              "      <td>BMT</td>\n",
              "      <td>4 Avenue</td>\n",
              "      <td>86th St</td>\n",
              "      <td>40.622687</td>\n",
              "      <td>-74.028398</td>\n",
              "      <td>R</td>\n",
              "      <td>NaN</td>\n",
              "      <td>NaN</td>\n",
              "      <td>NaN</td>\n",
              "      <td>NaN</td>\n",
              "      <td>NaN</td>\n",
              "      <td>NaN</td>\n",
              "      <td>NaN</td>\n",
              "      <td>NaN</td>\n",
              "      <td>NaN</td>\n",
              "      <td>NaN</td>\n",
              "      <td>Stair</td>\n",
              "      <td>YES</td>\n",
              "      <td>NaN</td>\n",
              "      <td>YES</td>\n",
              "      <td>FULL</td>\n",
              "      <td>NaN</td>\n",
              "      <td>False</td>\n",
              "      <td>NaN</td>\n",
              "      <td>True</td>\n",
              "      <td>4th Ave</td>\n",
              "      <td>86th St</td>\n",
              "      <td>SE</td>\n",
              "      <td>40.622583</td>\n",
              "      <td>-74.028315</td>\n",
              "      <td>(40.622687, -74.028398)</td>\n",
              "      <td>(40.622583, -74.028315)</td>\n",
              "    </tr>\n",
              "    <tr>\n",
              "      <th>26</th>\n",
              "      <td>BMT</td>\n",
              "      <td>4 Avenue</td>\n",
              "      <td>95th St</td>\n",
              "      <td>40.616622</td>\n",
              "      <td>-74.030876</td>\n",
              "      <td>R</td>\n",
              "      <td>NaN</td>\n",
              "      <td>NaN</td>\n",
              "      <td>NaN</td>\n",
              "      <td>NaN</td>\n",
              "      <td>NaN</td>\n",
              "      <td>NaN</td>\n",
              "      <td>NaN</td>\n",
              "      <td>NaN</td>\n",
              "      <td>NaN</td>\n",
              "      <td>NaN</td>\n",
              "      <td>Stair</td>\n",
              "      <td>YES</td>\n",
              "      <td>NaN</td>\n",
              "      <td>YES</td>\n",
              "      <td>FULL</td>\n",
              "      <td>NaN</td>\n",
              "      <td>False</td>\n",
              "      <td>NaN</td>\n",
              "      <td>True</td>\n",
              "      <td>4th Ave</td>\n",
              "      <td>95th St</td>\n",
              "      <td>SW</td>\n",
              "      <td>40.616021</td>\n",
              "      <td>-74.031383</td>\n",
              "      <td>(40.616622, -74.030876)</td>\n",
              "      <td>(40.616021, -74.031383)</td>\n",
              "    </tr>\n",
              "    <tr>\n",
              "      <th>31</th>\n",
              "      <td>BMT</td>\n",
              "      <td>4 Avenue</td>\n",
              "      <td>9th St</td>\n",
              "      <td>40.670847</td>\n",
              "      <td>-73.988302</td>\n",
              "      <td>F</td>\n",
              "      <td>G</td>\n",
              "      <td>R</td>\n",
              "      <td>NaN</td>\n",
              "      <td>NaN</td>\n",
              "      <td>NaN</td>\n",
              "      <td>NaN</td>\n",
              "      <td>NaN</td>\n",
              "      <td>NaN</td>\n",
              "      <td>NaN</td>\n",
              "      <td>NaN</td>\n",
              "      <td>Stair</td>\n",
              "      <td>YES</td>\n",
              "      <td>NaN</td>\n",
              "      <td>YES</td>\n",
              "      <td>FULL</td>\n",
              "      <td>NaN</td>\n",
              "      <td>False</td>\n",
              "      <td>NaN</td>\n",
              "      <td>True</td>\n",
              "      <td>4th Ave</td>\n",
              "      <td>9th St</td>\n",
              "      <td>NE</td>\n",
              "      <td>40.670387</td>\n",
              "      <td>-73.988480</td>\n",
              "      <td>(40.670847, -73.988302)</td>\n",
              "      <td>(40.670387, -73.98848)</td>\n",
              "    </tr>\n",
              "    <tr>\n",
              "      <th>33</th>\n",
              "      <td>BMT</td>\n",
              "      <td>4 Avenue</td>\n",
              "      <td>Atlantic Av-Barclays Ctr</td>\n",
              "      <td>40.683666</td>\n",
              "      <td>-73.978810</td>\n",
              "      <td>B</td>\n",
              "      <td>Q</td>\n",
              "      <td>D</td>\n",
              "      <td>N</td>\n",
              "      <td>R</td>\n",
              "      <td>2</td>\n",
              "      <td>3</td>\n",
              "      <td>4.0</td>\n",
              "      <td>5.0</td>\n",
              "      <td>NaN</td>\n",
              "      <td>NaN</td>\n",
              "      <td>Elevator</td>\n",
              "      <td>YES</td>\n",
              "      <td>NaN</td>\n",
              "      <td>YES</td>\n",
              "      <td>FULL</td>\n",
              "      <td>NaN</td>\n",
              "      <td>True</td>\n",
              "      <td>NaN</td>\n",
              "      <td>True</td>\n",
              "      <td>4th Ave</td>\n",
              "      <td>Pacific St</td>\n",
              "      <td>NE</td>\n",
              "      <td>40.683805</td>\n",
              "      <td>-73.978487</td>\n",
              "      <td>(40.683666, -73.97881)</td>\n",
              "      <td>(40.683805, -73.978487)</td>\n",
              "    </tr>\n",
              "    <tr>\n",
              "      <th>34</th>\n",
              "      <td>BMT</td>\n",
              "      <td>4 Avenue</td>\n",
              "      <td>Bay Ridge Av</td>\n",
              "      <td>40.634967</td>\n",
              "      <td>-74.023377</td>\n",
              "      <td>R</td>\n",
              "      <td>NaN</td>\n",
              "      <td>NaN</td>\n",
              "      <td>NaN</td>\n",
              "      <td>NaN</td>\n",
              "      <td>NaN</td>\n",
              "      <td>NaN</td>\n",
              "      <td>NaN</td>\n",
              "      <td>NaN</td>\n",
              "      <td>NaN</td>\n",
              "      <td>NaN</td>\n",
              "      <td>Stair</td>\n",
              "      <td>YES</td>\n",
              "      <td>NaN</td>\n",
              "      <td>YES</td>\n",
              "      <td>FULL</td>\n",
              "      <td>NaN</td>\n",
              "      <td>False</td>\n",
              "      <td>NaN</td>\n",
              "      <td>True</td>\n",
              "      <td>4th Ave</td>\n",
              "      <td>Bay Ridge Ave</td>\n",
              "      <td>NW</td>\n",
              "      <td>40.634827</td>\n",
              "      <td>-74.023580</td>\n",
              "      <td>(40.634967, -74.023377)</td>\n",
              "      <td>(40.634827, -74.02358)</td>\n",
              "    </tr>\n",
              "    <tr>\n",
              "      <th>37</th>\n",
              "      <td>BMT</td>\n",
              "      <td>4 Avenue</td>\n",
              "      <td>DeKalb Av</td>\n",
              "      <td>40.690635</td>\n",
              "      <td>-73.981824</td>\n",
              "      <td>B</td>\n",
              "      <td>Q</td>\n",
              "      <td>R</td>\n",
              "      <td>NaN</td>\n",
              "      <td>NaN</td>\n",
              "      <td>NaN</td>\n",
              "      <td>NaN</td>\n",
              "      <td>NaN</td>\n",
              "      <td>NaN</td>\n",
              "      <td>NaN</td>\n",
              "      <td>NaN</td>\n",
              "      <td>Elevator</td>\n",
              "      <td>YES</td>\n",
              "      <td>NaN</td>\n",
              "      <td>YES</td>\n",
              "      <td>FULL</td>\n",
              "      <td>NaN</td>\n",
              "      <td>True</td>\n",
              "      <td>NaN</td>\n",
              "      <td>True</td>\n",
              "      <td>Flatbush Ave</td>\n",
              "      <td>De Kalb Ave</td>\n",
              "      <td>SE</td>\n",
              "      <td>40.689804</td>\n",
              "      <td>-73.981164</td>\n",
              "      <td>(40.690635, -73.981824)</td>\n",
              "      <td>(40.689804, -73.981164)</td>\n",
              "    </tr>\n",
              "    <tr>\n",
              "      <th>43</th>\n",
              "      <td>BMT</td>\n",
              "      <td>4 Avenue</td>\n",
              "      <td>Pacific St</td>\n",
              "      <td>40.683666</td>\n",
              "      <td>-73.978810</td>\n",
              "      <td>B</td>\n",
              "      <td>Q</td>\n",
              "      <td>D</td>\n",
              "      <td>N</td>\n",
              "      <td>R</td>\n",
              "      <td>2</td>\n",
              "      <td>3</td>\n",
              "      <td>4.0</td>\n",
              "      <td>5.0</td>\n",
              "      <td>NaN</td>\n",
              "      <td>NaN</td>\n",
              "      <td>Stair</td>\n",
              "      <td>YES</td>\n",
              "      <td>NaN</td>\n",
              "      <td>YES</td>\n",
              "      <td>FULL</td>\n",
              "      <td>NaN</td>\n",
              "      <td>True</td>\n",
              "      <td>NaN</td>\n",
              "      <td>True</td>\n",
              "      <td>4th Ave</td>\n",
              "      <td>Pacific St</td>\n",
              "      <td>NW</td>\n",
              "      <td>40.683905</td>\n",
              "      <td>-73.978879</td>\n",
              "      <td>(40.683666, -73.97881)</td>\n",
              "      <td>(40.683905, -73.978879)</td>\n",
              "    </tr>\n",
              "    <tr>\n",
              "      <th>45</th>\n",
              "      <td>BMT</td>\n",
              "      <td>4 Avenue</td>\n",
              "      <td>Prospect Av</td>\n",
              "      <td>40.665414</td>\n",
              "      <td>-73.992872</td>\n",
              "      <td>R</td>\n",
              "      <td>NaN</td>\n",
              "      <td>NaN</td>\n",
              "      <td>NaN</td>\n",
              "      <td>NaN</td>\n",
              "      <td>NaN</td>\n",
              "      <td>NaN</td>\n",
              "      <td>NaN</td>\n",
              "      <td>NaN</td>\n",
              "      <td>NaN</td>\n",
              "      <td>NaN</td>\n",
              "      <td>Stair</td>\n",
              "      <td>YES</td>\n",
              "      <td>NaN</td>\n",
              "      <td>YES</td>\n",
              "      <td>FULL</td>\n",
              "      <td>NaN</td>\n",
              "      <td>False</td>\n",
              "      <td>NaN</td>\n",
              "      <td>False</td>\n",
              "      <td>4th Ave</td>\n",
              "      <td>Prospect Ave</td>\n",
              "      <td>NE</td>\n",
              "      <td>40.665299</td>\n",
              "      <td>-73.992729</td>\n",
              "      <td>(40.665414, -73.992872)</td>\n",
              "      <td>(40.665299, -73.992729)</td>\n",
              "    </tr>\n",
              "    <tr>\n",
              "      <th>48</th>\n",
              "      <td>BMT</td>\n",
              "      <td>4 Avenue</td>\n",
              "      <td>Union St</td>\n",
              "      <td>40.677316</td>\n",
              "      <td>-73.983110</td>\n",
              "      <td>R</td>\n",
              "      <td>NaN</td>\n",
              "      <td>NaN</td>\n",
              "      <td>NaN</td>\n",
              "      <td>NaN</td>\n",
              "      <td>NaN</td>\n",
              "      <td>NaN</td>\n",
              "      <td>NaN</td>\n",
              "      <td>NaN</td>\n",
              "      <td>NaN</td>\n",
              "      <td>NaN</td>\n",
              "      <td>Stair</td>\n",
              "      <td>YES</td>\n",
              "      <td>NaN</td>\n",
              "      <td>YES</td>\n",
              "      <td>FULL</td>\n",
              "      <td>NaN</td>\n",
              "      <td>False</td>\n",
              "      <td>NaN</td>\n",
              "      <td>False</td>\n",
              "      <td>4th Ave</td>\n",
              "      <td>Union St</td>\n",
              "      <td>SE</td>\n",
              "      <td>40.677171</td>\n",
              "      <td>-73.983020</td>\n",
              "      <td>(40.677316, -73.98311)</td>\n",
              "      <td>(40.677171, -73.98302)</td>\n",
              "    </tr>\n",
              "    <tr>\n",
              "      <th>52</th>\n",
              "      <td>BMT</td>\n",
              "      <td>Astoria</td>\n",
              "      <td>30 Av-Grand Av</td>\n",
              "      <td>40.766779</td>\n",
              "      <td>-73.921479</td>\n",
              "      <td>N</td>\n",
              "      <td>Q</td>\n",
              "      <td>NaN</td>\n",
              "      <td>NaN</td>\n",
              "      <td>NaN</td>\n",
              "      <td>NaN</td>\n",
              "      <td>NaN</td>\n",
              "      <td>NaN</td>\n",
              "      <td>NaN</td>\n",
              "      <td>NaN</td>\n",
              "      <td>NaN</td>\n",
              "      <td>Stair</td>\n",
              "      <td>YES</td>\n",
              "      <td>NaN</td>\n",
              "      <td>YES</td>\n",
              "      <td>FULL</td>\n",
              "      <td>NaN</td>\n",
              "      <td>False</td>\n",
              "      <td>NaN</td>\n",
              "      <td>True</td>\n",
              "      <td>31st St</td>\n",
              "      <td>30th Ave</td>\n",
              "      <td>SE</td>\n",
              "      <td>40.766700</td>\n",
              "      <td>-73.921406</td>\n",
              "      <td>(40.766779, -73.921479)</td>\n",
              "      <td>(40.7667, -73.921406)</td>\n",
              "    </tr>\n",
              "    <tr>\n",
              "      <th>56</th>\n",
              "      <td>BMT</td>\n",
              "      <td>Astoria</td>\n",
              "      <td>36 Av-Washington Av</td>\n",
              "      <td>40.756804</td>\n",
              "      <td>-73.929575</td>\n",
              "      <td>N</td>\n",
              "      <td>Q</td>\n",
              "      <td>NaN</td>\n",
              "      <td>NaN</td>\n",
              "      <td>NaN</td>\n",
              "      <td>NaN</td>\n",
              "      <td>NaN</td>\n",
              "      <td>NaN</td>\n",
              "      <td>NaN</td>\n",
              "      <td>NaN</td>\n",
              "      <td>NaN</td>\n",
              "      <td>Stair</td>\n",
              "      <td>YES</td>\n",
              "      <td>NaN</td>\n",
              "      <td>YES</td>\n",
              "      <td>FULL</td>\n",
              "      <td>NaN</td>\n",
              "      <td>False</td>\n",
              "      <td>NaN</td>\n",
              "      <td>True</td>\n",
              "      <td>31st St</td>\n",
              "      <td>36th Ave</td>\n",
              "      <td>SE</td>\n",
              "      <td>40.756379</td>\n",
              "      <td>-73.929766</td>\n",
              "      <td>(40.756804, -73.929575)</td>\n",
              "      <td>(40.756379, -73.929766)</td>\n",
              "    </tr>\n",
              "    <tr>\n",
              "      <th>59</th>\n",
              "      <td>BMT</td>\n",
              "      <td>Astoria</td>\n",
              "      <td>39 Av-Beebe Av</td>\n",
              "      <td>40.752882</td>\n",
              "      <td>-73.932755</td>\n",
              "      <td>N</td>\n",
              "      <td>Q</td>\n",
              "      <td>NaN</td>\n",
              "      <td>NaN</td>\n",
              "      <td>NaN</td>\n",
              "      <td>NaN</td>\n",
              "      <td>NaN</td>\n",
              "      <td>NaN</td>\n",
              "      <td>NaN</td>\n",
              "      <td>NaN</td>\n",
              "      <td>NaN</td>\n",
              "      <td>Stair</td>\n",
              "      <td>YES</td>\n",
              "      <td>NaN</td>\n",
              "      <td>YES</td>\n",
              "      <td>FULL</td>\n",
              "      <td>NaN</td>\n",
              "      <td>False</td>\n",
              "      <td>NaN</td>\n",
              "      <td>True</td>\n",
              "      <td>31st St</td>\n",
              "      <td>39th Ave</td>\n",
              "      <td>SE</td>\n",
              "      <td>40.752491</td>\n",
              "      <td>-73.932936</td>\n",
              "      <td>(40.752882, -73.932755)</td>\n",
              "      <td>(40.752491, -73.932936)</td>\n",
              "    </tr>\n",
              "    <tr>\n",
              "      <th>61</th>\n",
              "      <td>BMT</td>\n",
              "      <td>Astoria</td>\n",
              "      <td>Astoria Blvd-Hoyt Av</td>\n",
              "      <td>40.770258</td>\n",
              "      <td>-73.917843</td>\n",
              "      <td>N</td>\n",
              "      <td>Q</td>\n",
              "      <td>NaN</td>\n",
              "      <td>NaN</td>\n",
              "      <td>NaN</td>\n",
              "      <td>NaN</td>\n",
              "      <td>NaN</td>\n",
              "      <td>NaN</td>\n",
              "      <td>NaN</td>\n",
              "      <td>NaN</td>\n",
              "      <td>NaN</td>\n",
              "      <td>Stair</td>\n",
              "      <td>YES</td>\n",
              "      <td>NaN</td>\n",
              "      <td>YES</td>\n",
              "      <td>FULL</td>\n",
              "      <td>NaN</td>\n",
              "      <td>False</td>\n",
              "      <td>NaN</td>\n",
              "      <td>True</td>\n",
              "      <td>31st St</td>\n",
              "      <td>Hoyt Ave South</td>\n",
              "      <td>SE</td>\n",
              "      <td>40.770170</td>\n",
              "      <td>-73.917755</td>\n",
              "      <td>(40.770258, -73.917843)</td>\n",
              "      <td>(40.77017, -73.917755)</td>\n",
              "    </tr>\n",
              "    <tr>\n",
              "      <th>65</th>\n",
              "      <td>BMT</td>\n",
              "      <td>Astoria</td>\n",
              "      <td>Broadway</td>\n",
              "      <td>40.761820</td>\n",
              "      <td>-73.925508</td>\n",
              "      <td>N</td>\n",
              "      <td>Q</td>\n",
              "      <td>NaN</td>\n",
              "      <td>NaN</td>\n",
              "      <td>NaN</td>\n",
              "      <td>NaN</td>\n",
              "      <td>NaN</td>\n",
              "      <td>NaN</td>\n",
              "      <td>NaN</td>\n",
              "      <td>NaN</td>\n",
              "      <td>NaN</td>\n",
              "      <td>Stair</td>\n",
              "      <td>YES</td>\n",
              "      <td>NaN</td>\n",
              "      <td>YES</td>\n",
              "      <td>FULL</td>\n",
              "      <td>NaN</td>\n",
              "      <td>False</td>\n",
              "      <td>NaN</td>\n",
              "      <td>True</td>\n",
              "      <td>31st St</td>\n",
              "      <td>Broadway</td>\n",
              "      <td>NW</td>\n",
              "      <td>40.762217</td>\n",
              "      <td>-73.925349</td>\n",
              "      <td>(40.76182, -73.925508)</td>\n",
              "      <td>(40.762217, -73.925349)</td>\n",
              "    </tr>\n",
              "    <tr>\n",
              "      <th>68</th>\n",
              "      <td>BMT</td>\n",
              "      <td>Astoria</td>\n",
              "      <td>Ditmars Blvd</td>\n",
              "      <td>40.775036</td>\n",
              "      <td>-73.912034</td>\n",
              "      <td>N</td>\n",
              "      <td>Q</td>\n",
              "      <td>NaN</td>\n",
              "      <td>NaN</td>\n",
              "      <td>NaN</td>\n",
              "      <td>NaN</td>\n",
              "      <td>NaN</td>\n",
              "      <td>NaN</td>\n",
              "      <td>NaN</td>\n",
              "      <td>NaN</td>\n",
              "      <td>NaN</td>\n",
              "      <td>Stair</td>\n",
              "      <td>YES</td>\n",
              "      <td>NaN</td>\n",
              "      <td>YES</td>\n",
              "      <td>FULL</td>\n",
              "      <td>NaN</td>\n",
              "      <td>False</td>\n",
              "      <td>NaN</td>\n",
              "      <td>True</td>\n",
              "      <td>31st St</td>\n",
              "      <td>23rd Ave</td>\n",
              "      <td>NW</td>\n",
              "      <td>40.774938</td>\n",
              "      <td>-73.912337</td>\n",
              "      <td>(40.775036, -73.912034)</td>\n",
              "      <td>(40.774938, -73.912337)</td>\n",
              "    </tr>\n",
              "    <tr>\n",
              "      <th>72</th>\n",
              "      <td>BMT</td>\n",
              "      <td>Brighton</td>\n",
              "      <td>7th Av</td>\n",
              "      <td>40.677050</td>\n",
              "      <td>-73.972367</td>\n",
              "      <td>B</td>\n",
              "      <td>Q</td>\n",
              "      <td>NaN</td>\n",
              "      <td>NaN</td>\n",
              "      <td>NaN</td>\n",
              "      <td>NaN</td>\n",
              "      <td>NaN</td>\n",
              "      <td>NaN</td>\n",
              "      <td>NaN</td>\n",
              "      <td>NaN</td>\n",
              "      <td>NaN</td>\n",
              "      <td>Stair</td>\n",
              "      <td>YES</td>\n",
              "      <td>NaN</td>\n",
              "      <td>YES</td>\n",
              "      <td>FULL</td>\n",
              "      <td>NaN</td>\n",
              "      <td>False</td>\n",
              "      <td>NaN</td>\n",
              "      <td>True</td>\n",
              "      <td>Carlton Ave</td>\n",
              "      <td>Park Pl</td>\n",
              "      <td>SE</td>\n",
              "      <td>40.677324</td>\n",
              "      <td>-73.972212</td>\n",
              "      <td>(40.67705, -73.972367)</td>\n",
              "      <td>(40.677324, -73.972212)</td>\n",
              "    </tr>\n",
              "    <tr>\n",
              "      <th>74</th>\n",
              "      <td>BMT</td>\n",
              "      <td>Brighton</td>\n",
              "      <td>Atlantic Av</td>\n",
              "      <td>40.684460</td>\n",
              "      <td>-73.976890</td>\n",
              "      <td>B</td>\n",
              "      <td>Q</td>\n",
              "      <td>D</td>\n",
              "      <td>N</td>\n",
              "      <td>R</td>\n",
              "      <td>2</td>\n",
              "      <td>3</td>\n",
              "      <td>4.0</td>\n",
              "      <td>5.0</td>\n",
              "      <td>NaN</td>\n",
              "      <td>NaN</td>\n",
              "      <td>Easement</td>\n",
              "      <td>YES</td>\n",
              "      <td>NaN</td>\n",
              "      <td>YES</td>\n",
              "      <td>NONE</td>\n",
              "      <td>NaN</td>\n",
              "      <td>True</td>\n",
              "      <td>NaN</td>\n",
              "      <td>True</td>\n",
              "      <td>Ashland Pl</td>\n",
              "      <td>Hanson Pl</td>\n",
              "      <td>NE</td>\n",
              "      <td>40.685222</td>\n",
              "      <td>-73.977628</td>\n",
              "      <td>(40.68446, -73.97689)</td>\n",
              "      <td>(40.685222, -73.977628)</td>\n",
              "    </tr>\n",
              "    <tr>\n",
              "      <th>75</th>\n",
              "      <td>BMT</td>\n",
              "      <td>Brighton</td>\n",
              "      <td>Av H</td>\n",
              "      <td>40.629270</td>\n",
              "      <td>-73.961639</td>\n",
              "      <td>B</td>\n",
              "      <td>Q</td>\n",
              "      <td>NaN</td>\n",
              "      <td>NaN</td>\n",
              "      <td>NaN</td>\n",
              "      <td>NaN</td>\n",
              "      <td>NaN</td>\n",
              "      <td>NaN</td>\n",
              "      <td>NaN</td>\n",
              "      <td>NaN</td>\n",
              "      <td>NaN</td>\n",
              "      <td>Door</td>\n",
              "      <td>YES</td>\n",
              "      <td>NaN</td>\n",
              "      <td>YES</td>\n",
              "      <td>FULL</td>\n",
              "      <td>NaN</td>\n",
              "      <td>False</td>\n",
              "      <td>NaN</td>\n",
              "      <td>True</td>\n",
              "      <td>16th St</td>\n",
              "      <td>Avenue H</td>\n",
              "      <td>SW</td>\n",
              "      <td>40.629930</td>\n",
              "      <td>-73.961477</td>\n",
              "      <td>(40.62927, -73.961639)</td>\n",
              "      <td>(40.62993, -73.961477)</td>\n",
              "    </tr>\n",
              "    <tr>\n",
              "      <th>77</th>\n",
              "      <td>BMT</td>\n",
              "      <td>Brighton</td>\n",
              "      <td>Av J</td>\n",
              "      <td>40.625039</td>\n",
              "      <td>-73.960803</td>\n",
              "      <td>B</td>\n",
              "      <td>Q</td>\n",
              "      <td>NaN</td>\n",
              "      <td>NaN</td>\n",
              "      <td>NaN</td>\n",
              "      <td>NaN</td>\n",
              "      <td>NaN</td>\n",
              "      <td>NaN</td>\n",
              "      <td>NaN</td>\n",
              "      <td>NaN</td>\n",
              "      <td>NaN</td>\n",
              "      <td>Stair</td>\n",
              "      <td>YES</td>\n",
              "      <td>NaN</td>\n",
              "      <td>NO</td>\n",
              "      <td>NONE</td>\n",
              "      <td>NaN</td>\n",
              "      <td>False</td>\n",
              "      <td>NaN</td>\n",
              "      <td>True</td>\n",
              "      <td>15th St</td>\n",
              "      <td>Avenue J</td>\n",
              "      <td>NE</td>\n",
              "      <td>40.625307</td>\n",
              "      <td>-73.960969</td>\n",
              "      <td>(40.625039, -73.960803)</td>\n",
              "      <td>(40.625307, -73.960969)</td>\n",
              "    </tr>\n",
              "    <tr>\n",
              "      <th>80</th>\n",
              "      <td>BMT</td>\n",
              "      <td>Brighton</td>\n",
              "      <td>Av M</td>\n",
              "      <td>40.617618</td>\n",
              "      <td>-73.959399</td>\n",
              "      <td>B</td>\n",
              "      <td>Q</td>\n",
              "      <td>NaN</td>\n",
              "      <td>NaN</td>\n",
              "      <td>NaN</td>\n",
              "      <td>NaN</td>\n",
              "      <td>NaN</td>\n",
              "      <td>NaN</td>\n",
              "      <td>NaN</td>\n",
              "      <td>NaN</td>\n",
              "      <td>NaN</td>\n",
              "      <td>Door</td>\n",
              "      <td>YES</td>\n",
              "      <td>NaN</td>\n",
              "      <td>YES</td>\n",
              "      <td>FULL</td>\n",
              "      <td>NaN</td>\n",
              "      <td>False</td>\n",
              "      <td>NaN</td>\n",
              "      <td>True</td>\n",
              "      <td>15th St</td>\n",
              "      <td>Avenue M</td>\n",
              "      <td>SE</td>\n",
              "      <td>40.617928</td>\n",
              "      <td>-73.959454</td>\n",
              "      <td>(40.617618, -73.959399)</td>\n",
              "      <td>(40.617928, -73.959454)</td>\n",
              "    </tr>\n",
              "    <tr>\n",
              "      <th>82</th>\n",
              "      <td>BMT</td>\n",
              "      <td>Brighton</td>\n",
              "      <td>Av U</td>\n",
              "      <td>40.599300</td>\n",
              "      <td>-73.955929</td>\n",
              "      <td>B</td>\n",
              "      <td>Q</td>\n",
              "      <td>NaN</td>\n",
              "      <td>NaN</td>\n",
              "      <td>NaN</td>\n",
              "      <td>NaN</td>\n",
              "      <td>NaN</td>\n",
              "      <td>NaN</td>\n",
              "      <td>NaN</td>\n",
              "      <td>NaN</td>\n",
              "      <td>NaN</td>\n",
              "      <td>Door</td>\n",
              "      <td>YES</td>\n",
              "      <td>NaN</td>\n",
              "      <td>YES</td>\n",
              "      <td>FULL</td>\n",
              "      <td>NaN</td>\n",
              "      <td>False</td>\n",
              "      <td>NaN</td>\n",
              "      <td>True</td>\n",
              "      <td>15th St</td>\n",
              "      <td>Avenue U</td>\n",
              "      <td>SE</td>\n",
              "      <td>40.598991</td>\n",
              "      <td>-73.955828</td>\n",
              "      <td>(40.5993, -73.955929)</td>\n",
              "      <td>(40.598991, -73.955828)</td>\n",
              "    </tr>\n",
              "    <tr>\n",
              "      <th>83</th>\n",
              "      <td>BMT</td>\n",
              "      <td>Brighton</td>\n",
              "      <td>Beverly Rd</td>\n",
              "      <td>40.644031</td>\n",
              "      <td>-73.964492</td>\n",
              "      <td>B</td>\n",
              "      <td>Q</td>\n",
              "      <td>NaN</td>\n",
              "      <td>NaN</td>\n",
              "      <td>NaN</td>\n",
              "      <td>NaN</td>\n",
              "      <td>NaN</td>\n",
              "      <td>NaN</td>\n",
              "      <td>NaN</td>\n",
              "      <td>NaN</td>\n",
              "      <td>NaN</td>\n",
              "      <td>Door</td>\n",
              "      <td>YES</td>\n",
              "      <td>NaN</td>\n",
              "      <td>YES</td>\n",
              "      <td>FULL</td>\n",
              "      <td>NaN</td>\n",
              "      <td>False</td>\n",
              "      <td>NaN</td>\n",
              "      <td>True</td>\n",
              "      <td>Marlborough Rd</td>\n",
              "      <td>Beverly Rd</td>\n",
              "      <td>SE</td>\n",
              "      <td>40.644272</td>\n",
              "      <td>-73.964528</td>\n",
              "      <td>(40.644031, -73.964492)</td>\n",
              "      <td>(40.644272, -73.964528)</td>\n",
              "    </tr>\n",
              "    <tr>\n",
              "      <th>84</th>\n",
              "      <td>BMT</td>\n",
              "      <td>Brighton</td>\n",
              "      <td>Brighton Beach</td>\n",
              "      <td>40.577621</td>\n",
              "      <td>-73.961376</td>\n",
              "      <td>B</td>\n",
              "      <td>Q</td>\n",
              "      <td>NaN</td>\n",
              "      <td>NaN</td>\n",
              "      <td>NaN</td>\n",
              "      <td>NaN</td>\n",
              "      <td>NaN</td>\n",
              "      <td>NaN</td>\n",
              "      <td>NaN</td>\n",
              "      <td>NaN</td>\n",
              "      <td>NaN</td>\n",
              "      <td>Stair</td>\n",
              "      <td>YES</td>\n",
              "      <td>NaN</td>\n",
              "      <td>YES</td>\n",
              "      <td>NONE</td>\n",
              "      <td>NaN</td>\n",
              "      <td>False</td>\n",
              "      <td>NaN</td>\n",
              "      <td>True</td>\n",
              "      <td>Branch 6 St</td>\n",
              "      <td>Brighton Beach Rd</td>\n",
              "      <td>NW</td>\n",
              "      <td>40.577618</td>\n",
              "      <td>-73.961994</td>\n",
              "      <td>(40.577621, -73.961376)</td>\n",
              "      <td>(40.577618, -73.961994)</td>\n",
              "    </tr>\n",
              "    <tr>\n",
              "      <th>92</th>\n",
              "      <td>BMT</td>\n",
              "      <td>Brighton</td>\n",
              "      <td>Church Av</td>\n",
              "      <td>40.650527</td>\n",
              "      <td>-73.962982</td>\n",
              "      <td>B</td>\n",
              "      <td>Q</td>\n",
              "      <td>NaN</td>\n",
              "      <td>NaN</td>\n",
              "      <td>NaN</td>\n",
              "      <td>NaN</td>\n",
              "      <td>NaN</td>\n",
              "      <td>NaN</td>\n",
              "      <td>NaN</td>\n",
              "      <td>NaN</td>\n",
              "      <td>NaN</td>\n",
              "      <td>Door</td>\n",
              "      <td>YES</td>\n",
              "      <td>NaN</td>\n",
              "      <td>YES</td>\n",
              "      <td>FULL</td>\n",
              "      <td>NaN</td>\n",
              "      <td>False</td>\n",
              "      <td>NaN</td>\n",
              "      <td>True</td>\n",
              "      <td>18th St</td>\n",
              "      <td>Church Ave</td>\n",
              "      <td>NW</td>\n",
              "      <td>40.649427</td>\n",
              "      <td>-73.963356</td>\n",
              "      <td>(40.650527, -73.962982)</td>\n",
              "      <td>(40.649427, -73.963356)</td>\n",
              "    </tr>\n",
              "    <tr>\n",
              "      <th>94</th>\n",
              "      <td>BMT</td>\n",
              "      <td>Brighton</td>\n",
              "      <td>Cortelyou Rd</td>\n",
              "      <td>40.640927</td>\n",
              "      <td>-73.963891</td>\n",
              "      <td>B</td>\n",
              "      <td>Q</td>\n",
              "      <td>NaN</td>\n",
              "      <td>NaN</td>\n",
              "      <td>NaN</td>\n",
              "      <td>NaN</td>\n",
              "      <td>NaN</td>\n",
              "      <td>NaN</td>\n",
              "      <td>NaN</td>\n",
              "      <td>NaN</td>\n",
              "      <td>NaN</td>\n",
              "      <td>Door</td>\n",
              "      <td>YES</td>\n",
              "      <td>NaN</td>\n",
              "      <td>YES</td>\n",
              "      <td>FULL</td>\n",
              "      <td>NaN</td>\n",
              "      <td>False</td>\n",
              "      <td>NaN</td>\n",
              "      <td>True</td>\n",
              "      <td>Marlborough Rd</td>\n",
              "      <td>Cortelyou Rd</td>\n",
              "      <td>SE</td>\n",
              "      <td>40.641314</td>\n",
              "      <td>-73.963996</td>\n",
              "      <td>(40.640927, -73.963891)</td>\n",
              "      <td>(40.641314, -73.963996)</td>\n",
              "    </tr>\n",
              "    <tr>\n",
              "      <th>95</th>\n",
              "      <td>BMT</td>\n",
              "      <td>Brighton</td>\n",
              "      <td>Kings Highway</td>\n",
              "      <td>40.608670</td>\n",
              "      <td>-73.957734</td>\n",
              "      <td>B</td>\n",
              "      <td>Q</td>\n",
              "      <td>NaN</td>\n",
              "      <td>NaN</td>\n",
              "      <td>NaN</td>\n",
              "      <td>NaN</td>\n",
              "      <td>NaN</td>\n",
              "      <td>NaN</td>\n",
              "      <td>NaN</td>\n",
              "      <td>NaN</td>\n",
              "      <td>NaN</td>\n",
              "      <td>Door</td>\n",
              "      <td>YES</td>\n",
              "      <td>NaN</td>\n",
              "      <td>YES</td>\n",
              "      <td>NONE</td>\n",
              "      <td>NaN</td>\n",
              "      <td>False</td>\n",
              "      <td>NaN</td>\n",
              "      <td>True</td>\n",
              "      <td>15th St</td>\n",
              "      <td>Kings Hwy</td>\n",
              "      <td>NE</td>\n",
              "      <td>40.609062</td>\n",
              "      <td>-73.957808</td>\n",
              "      <td>(40.60867, -73.957734)</td>\n",
              "      <td>(40.609062, -73.957808)</td>\n",
              "    </tr>\n",
              "    <tr>\n",
              "      <th>98</th>\n",
              "      <td>BMT</td>\n",
              "      <td>Brighton</td>\n",
              "      <td>Neck Rd</td>\n",
              "      <td>40.595246</td>\n",
              "      <td>-73.955161</td>\n",
              "      <td>B</td>\n",
              "      <td>Q</td>\n",
              "      <td>NaN</td>\n",
              "      <td>NaN</td>\n",
              "      <td>NaN</td>\n",
              "      <td>NaN</td>\n",
              "      <td>NaN</td>\n",
              "      <td>NaN</td>\n",
              "      <td>NaN</td>\n",
              "      <td>NaN</td>\n",
              "      <td>NaN</td>\n",
              "      <td>Door</td>\n",
              "      <td>YES</td>\n",
              "      <td>NaN</td>\n",
              "      <td>YES</td>\n",
              "      <td>FULL</td>\n",
              "      <td>NaN</td>\n",
              "      <td>False</td>\n",
              "      <td>NaN</td>\n",
              "      <td>True</td>\n",
              "      <td>15th St</td>\n",
              "      <td>Gravesend Neck Rd</td>\n",
              "      <td>NE</td>\n",
              "      <td>40.595020</td>\n",
              "      <td>-73.955120</td>\n",
              "      <td>(40.595246, -73.955161)</td>\n",
              "      <td>(40.59502, -73.95512)</td>\n",
              "    </tr>\n",
              "    <tr>\n",
              "      <th>99</th>\n",
              "      <td>BMT</td>\n",
              "      <td>Brighton</td>\n",
              "      <td>Newkirk Av</td>\n",
              "      <td>40.635082</td>\n",
              "      <td>-73.962793</td>\n",
              "      <td>B</td>\n",
              "      <td>Q</td>\n",
              "      <td>NaN</td>\n",
              "      <td>NaN</td>\n",
              "      <td>NaN</td>\n",
              "      <td>NaN</td>\n",
              "      <td>NaN</td>\n",
              "      <td>NaN</td>\n",
              "      <td>NaN</td>\n",
              "      <td>NaN</td>\n",
              "      <td>NaN</td>\n",
              "      <td>Door</td>\n",
              "      <td>YES</td>\n",
              "      <td>NaN</td>\n",
              "      <td>YES</td>\n",
              "      <td>FULL</td>\n",
              "      <td>NaN</td>\n",
              "      <td>False</td>\n",
              "      <td>NaN</td>\n",
              "      <td>True</td>\n",
              "      <td>Marlborough Rd</td>\n",
              "      <td>Newkirk Ave</td>\n",
              "      <td>SE</td>\n",
              "      <td>40.635034</td>\n",
              "      <td>-73.962736</td>\n",
              "      <td>(40.635082, -73.962793)</td>\n",
              "      <td>(40.635034, -73.962736)</td>\n",
              "    </tr>\n",
              "    <tr>\n",
              "      <th>100</th>\n",
              "      <td>BMT</td>\n",
              "      <td>Brighton</td>\n",
              "      <td>Ocean Parkway</td>\n",
              "      <td>40.576312</td>\n",
              "      <td>-73.968501</td>\n",
              "      <td>Q</td>\n",
              "      <td>NaN</td>\n",
              "      <td>NaN</td>\n",
              "      <td>NaN</td>\n",
              "      <td>NaN</td>\n",
              "      <td>NaN</td>\n",
              "      <td>NaN</td>\n",
              "      <td>NaN</td>\n",
              "      <td>NaN</td>\n",
              "      <td>NaN</td>\n",
              "      <td>NaN</td>\n",
              "      <td>Stair</td>\n",
              "      <td>YES</td>\n",
              "      <td>NaN</td>\n",
              "      <td>YES</td>\n",
              "      <td>FULL</td>\n",
              "      <td>NaN</td>\n",
              "      <td>False</td>\n",
              "      <td>NaN</td>\n",
              "      <td>True</td>\n",
              "      <td>Ocean Pkwy</td>\n",
              "      <td>Brighton Beach Rd</td>\n",
              "      <td>SE</td>\n",
              "      <td>40.576209</td>\n",
              "      <td>-73.967875</td>\n",
              "      <td>(40.576312, -73.968501)</td>\n",
              "      <td>(40.576209, -73.967875)</td>\n",
              "    </tr>\n",
              "    <tr>\n",
              "      <th>106</th>\n",
              "      <td>BMT</td>\n",
              "      <td>Brighton</td>\n",
              "      <td>Parkside Av</td>\n",
              "      <td>40.655292</td>\n",
              "      <td>-73.961495</td>\n",
              "      <td>B</td>\n",
              "      <td>Q</td>\n",
              "      <td>NaN</td>\n",
              "      <td>NaN</td>\n",
              "      <td>NaN</td>\n",
              "      <td>NaN</td>\n",
              "      <td>NaN</td>\n",
              "      <td>NaN</td>\n",
              "      <td>NaN</td>\n",
              "      <td>NaN</td>\n",
              "      <td>NaN</td>\n",
              "      <td>Door</td>\n",
              "      <td>YES</td>\n",
              "      <td>NaN</td>\n",
              "      <td>YES</td>\n",
              "      <td>FULL</td>\n",
              "      <td>NaN</td>\n",
              "      <td>False</td>\n",
              "      <td>NaN</td>\n",
              "      <td>True</td>\n",
              "      <td>Ocean Ave</td>\n",
              "      <td>Parkside Ave</td>\n",
              "      <td>NE</td>\n",
              "      <td>40.655221</td>\n",
              "      <td>-73.961516</td>\n",
              "      <td>(40.655292, -73.961495)</td>\n",
              "      <td>(40.655221, -73.961516)</td>\n",
              "    </tr>\n",
              "    <tr>\n",
              "      <th>108</th>\n",
              "      <td>BMT</td>\n",
              "      <td>Brighton</td>\n",
              "      <td>Prospect Park</td>\n",
              "      <td>40.661614</td>\n",
              "      <td>-73.962246</td>\n",
              "      <td>B</td>\n",
              "      <td>Q</td>\n",
              "      <td>FS</td>\n",
              "      <td>NaN</td>\n",
              "      <td>NaN</td>\n",
              "      <td>NaN</td>\n",
              "      <td>NaN</td>\n",
              "      <td>NaN</td>\n",
              "      <td>NaN</td>\n",
              "      <td>NaN</td>\n",
              "      <td>NaN</td>\n",
              "      <td>Door</td>\n",
              "      <td>YES</td>\n",
              "      <td>NaN</td>\n",
              "      <td>YES</td>\n",
              "      <td>FULL</td>\n",
              "      <td>NaN</td>\n",
              "      <td>True</td>\n",
              "      <td>NaN</td>\n",
              "      <td>True</td>\n",
              "      <td>Ocean Ave</td>\n",
              "      <td>Lincoln Rd</td>\n",
              "      <td>NE</td>\n",
              "      <td>40.660792</td>\n",
              "      <td>-73.962109</td>\n",
              "      <td>(40.661614, -73.962246)</td>\n",
              "      <td>(40.660792, -73.962109)</td>\n",
              "    </tr>\n",
              "    <tr>\n",
              "      <th>111</th>\n",
              "      <td>BMT</td>\n",
              "      <td>Brighton</td>\n",
              "      <td>Sheepshead Bay</td>\n",
              "      <td>40.586896</td>\n",
              "      <td>-73.954155</td>\n",
              "      <td>B</td>\n",
              "      <td>Q</td>\n",
              "      <td>NaN</td>\n",
              "      <td>NaN</td>\n",
              "      <td>NaN</td>\n",
              "      <td>NaN</td>\n",
              "      <td>NaN</td>\n",
              "      <td>NaN</td>\n",
              "      <td>NaN</td>\n",
              "      <td>NaN</td>\n",
              "      <td>NaN</td>\n",
              "      <td>Door</td>\n",
              "      <td>YES</td>\n",
              "      <td>NaN</td>\n",
              "      <td>YES</td>\n",
              "      <td>FULL</td>\n",
              "      <td>NaN</td>\n",
              "      <td>False</td>\n",
              "      <td>NaN</td>\n",
              "      <td>True</td>\n",
              "      <td>15th St</td>\n",
              "      <td>Sheepshead Bay Rd</td>\n",
              "      <td>SE</td>\n",
              "      <td>40.587302</td>\n",
              "      <td>-73.954224</td>\n",
              "      <td>(40.586896, -73.954155)</td>\n",
              "      <td>(40.587302, -73.954224)</td>\n",
              "    </tr>\n",
              "    <tr>\n",
              "      <th>113</th>\n",
              "      <td>BMT</td>\n",
              "      <td>Brighton</td>\n",
              "      <td>Stillwell Av</td>\n",
              "      <td>40.577422</td>\n",
              "      <td>-73.981233</td>\n",
              "      <td>D</td>\n",
              "      <td>F</td>\n",
              "      <td>N</td>\n",
              "      <td>Q</td>\n",
              "      <td>NaN</td>\n",
              "      <td>NaN</td>\n",
              "      <td>NaN</td>\n",
              "      <td>NaN</td>\n",
              "      <td>NaN</td>\n",
              "      <td>NaN</td>\n",
              "      <td>NaN</td>\n",
              "      <td>Stair</td>\n",
              "      <td>YES</td>\n",
              "      <td>NaN</td>\n",
              "      <td>YES</td>\n",
              "      <td>NONE</td>\n",
              "      <td>NaN</td>\n",
              "      <td>True</td>\n",
              "      <td>NaN</td>\n",
              "      <td>True</td>\n",
              "      <td>Stillwell Ave</td>\n",
              "      <td>Surf Ave</td>\n",
              "      <td>NE</td>\n",
              "      <td>40.576241</td>\n",
              "      <td>-73.981077</td>\n",
              "      <td>(40.577422, -73.981233)</td>\n",
              "      <td>(40.576241, -73.981077)</td>\n",
              "    </tr>\n",
              "    <tr>\n",
              "      <th>114</th>\n",
              "      <td>BMT</td>\n",
              "      <td>Brighton</td>\n",
              "      <td>West 8th St</td>\n",
              "      <td>40.576127</td>\n",
              "      <td>-73.975939</td>\n",
              "      <td>F</td>\n",
              "      <td>Q</td>\n",
              "      <td>NaN</td>\n",
              "      <td>NaN</td>\n",
              "      <td>NaN</td>\n",
              "      <td>NaN</td>\n",
              "      <td>NaN</td>\n",
              "      <td>NaN</td>\n",
              "      <td>NaN</td>\n",
              "      <td>NaN</td>\n",
              "      <td>NaN</td>\n",
              "      <td>Ramp</td>\n",
              "      <td>YES</td>\n",
              "      <td>NaN</td>\n",
              "      <td>NO</td>\n",
              "      <td>NONE</td>\n",
              "      <td>NaN</td>\n",
              "      <td>False</td>\n",
              "      <td>NaN</td>\n",
              "      <td>True</td>\n",
              "      <td>NaN</td>\n",
              "      <td>NaN</td>\n",
              "      <td>NaN</td>\n",
              "      <td>40.575752</td>\n",
              "      <td>-73.976740</td>\n",
              "      <td>(40.576127, -73.975939)</td>\n",
              "      <td>(40.575752, -73.97674)</td>\n",
              "    </tr>\n",
              "    <tr>\n",
              "      <th>116</th>\n",
              "      <td>BMT</td>\n",
              "      <td>Broadway</td>\n",
              "      <td>23rd St</td>\n",
              "      <td>40.741303</td>\n",
              "      <td>-73.989344</td>\n",
              "      <td>N</td>\n",
              "      <td>R</td>\n",
              "      <td>NaN</td>\n",
              "      <td>NaN</td>\n",
              "      <td>NaN</td>\n",
              "      <td>NaN</td>\n",
              "      <td>NaN</td>\n",
              "      <td>NaN</td>\n",
              "      <td>NaN</td>\n",
              "      <td>NaN</td>\n",
              "      <td>NaN</td>\n",
              "      <td>Stair</td>\n",
              "      <td>YES</td>\n",
              "      <td>NaN</td>\n",
              "      <td>YES</td>\n",
              "      <td>FULL</td>\n",
              "      <td>NaN</td>\n",
              "      <td>False</td>\n",
              "      <td>NaN</td>\n",
              "      <td>False</td>\n",
              "      <td>Broadway</td>\n",
              "      <td>23rd St</td>\n",
              "      <td>SE</td>\n",
              "      <td>40.741080</td>\n",
              "      <td>-73.989083</td>\n",
              "      <td>(40.741303, -73.989344)</td>\n",
              "      <td>(40.74108, -73.989083)</td>\n",
              "    </tr>\n",
              "    <tr>\n",
              "      <th>124</th>\n",
              "      <td>BMT</td>\n",
              "      <td>Broadway</td>\n",
              "      <td>28th St</td>\n",
              "      <td>40.745494</td>\n",
              "      <td>-73.988691</td>\n",
              "      <td>N</td>\n",
              "      <td>R</td>\n",
              "      <td>NaN</td>\n",
              "      <td>NaN</td>\n",
              "      <td>NaN</td>\n",
              "      <td>NaN</td>\n",
              "      <td>NaN</td>\n",
              "      <td>NaN</td>\n",
              "      <td>NaN</td>\n",
              "      <td>NaN</td>\n",
              "      <td>NaN</td>\n",
              "      <td>Stair</td>\n",
              "      <td>YES</td>\n",
              "      <td>NaN</td>\n",
              "      <td>YES</td>\n",
              "      <td>FULL</td>\n",
              "      <td>NaN</td>\n",
              "      <td>False</td>\n",
              "      <td>NaN</td>\n",
              "      <td>False</td>\n",
              "      <td>Broadway</td>\n",
              "      <td>28th St</td>\n",
              "      <td>SE</td>\n",
              "      <td>40.745089</td>\n",
              "      <td>-73.988472</td>\n",
              "      <td>(40.745494, -73.988691)</td>\n",
              "      <td>(40.745089, -73.988472)</td>\n",
              "    </tr>\n",
              "    <tr>\n",
              "      <th>128</th>\n",
              "      <td>BMT</td>\n",
              "      <td>Broadway</td>\n",
              "      <td>34th St</td>\n",
              "      <td>40.749567</td>\n",
              "      <td>-73.987950</td>\n",
              "      <td>B</td>\n",
              "      <td>D</td>\n",
              "      <td>F</td>\n",
              "      <td>M</td>\n",
              "      <td>N</td>\n",
              "      <td>Q</td>\n",
              "      <td>R</td>\n",
              "      <td>NaN</td>\n",
              "      <td>NaN</td>\n",
              "      <td>NaN</td>\n",
              "      <td>NaN</td>\n",
              "      <td>Stair</td>\n",
              "      <td>YES</td>\n",
              "      <td>NaN</td>\n",
              "      <td>YES</td>\n",
              "      <td>NONE</td>\n",
              "      <td>NaN</td>\n",
              "      <td>True</td>\n",
              "      <td>NaN</td>\n",
              "      <td>True</td>\n",
              "      <td>6th Ave</td>\n",
              "      <td>34th St</td>\n",
              "      <td>SE</td>\n",
              "      <td>40.749590</td>\n",
              "      <td>-73.987620</td>\n",
              "      <td>(40.749567, -73.98795)</td>\n",
              "      <td>(40.74959, -73.98762)</td>\n",
              "    </tr>\n",
              "    <tr>\n",
              "      <th>132</th>\n",
              "      <td>BMT</td>\n",
              "      <td>Broadway</td>\n",
              "      <td>49th St</td>\n",
              "      <td>40.759901</td>\n",
              "      <td>-73.984139</td>\n",
              "      <td>N</td>\n",
              "      <td>Q</td>\n",
              "      <td>R</td>\n",
              "      <td>NaN</td>\n",
              "      <td>NaN</td>\n",
              "      <td>NaN</td>\n",
              "      <td>NaN</td>\n",
              "      <td>NaN</td>\n",
              "      <td>NaN</td>\n",
              "      <td>NaN</td>\n",
              "      <td>NaN</td>\n",
              "      <td>Stair</td>\n",
              "      <td>YES</td>\n",
              "      <td>NaN</td>\n",
              "      <td>YES</td>\n",
              "      <td>FULL</td>\n",
              "      <td>NaN</td>\n",
              "      <td>True</td>\n",
              "      <td>Northbound Only</td>\n",
              "      <td>False</td>\n",
              "      <td>7th Ave</td>\n",
              "      <td>49th St</td>\n",
              "      <td>SW</td>\n",
              "      <td>40.760486</td>\n",
              "      <td>-73.983974</td>\n",
              "      <td>(40.759901, -73.984139)</td>\n",
              "      <td>(40.760486, -73.983974)</td>\n",
              "    </tr>\n",
              "    <tr>\n",
              "      <th>139</th>\n",
              "      <td>BMT</td>\n",
              "      <td>Broadway</td>\n",
              "      <td>57th St</td>\n",
              "      <td>40.764664</td>\n",
              "      <td>-73.980658</td>\n",
              "      <td>N</td>\n",
              "      <td>Q</td>\n",
              "      <td>R</td>\n",
              "      <td>NaN</td>\n",
              "      <td>NaN</td>\n",
              "      <td>NaN</td>\n",
              "      <td>NaN</td>\n",
              "      <td>NaN</td>\n",
              "      <td>NaN</td>\n",
              "      <td>NaN</td>\n",
              "      <td>NaN</td>\n",
              "      <td>Stair</td>\n",
              "      <td>YES</td>\n",
              "      <td>NaN</td>\n",
              "      <td>YES</td>\n",
              "      <td>FULL</td>\n",
              "      <td>NaN</td>\n",
              "      <td>False</td>\n",
              "      <td>NaN</td>\n",
              "      <td>True</td>\n",
              "      <td>7th Ave</td>\n",
              "      <td>57th St</td>\n",
              "      <td>SE</td>\n",
              "      <td>40.765298</td>\n",
              "      <td>-73.980033</td>\n",
              "      <td>(40.764664, -73.980658)</td>\n",
              "      <td>(40.765298, -73.980033)</td>\n",
              "    </tr>\n",
              "    <tr>\n",
              "      <th>147</th>\n",
              "      <td>BMT</td>\n",
              "      <td>Broadway</td>\n",
              "      <td>5th Av</td>\n",
              "      <td>40.764811</td>\n",
              "      <td>-73.973347</td>\n",
              "      <td>N</td>\n",
              "      <td>Q</td>\n",
              "      <td>R</td>\n",
              "      <td>NaN</td>\n",
              "      <td>NaN</td>\n",
              "      <td>NaN</td>\n",
              "      <td>NaN</td>\n",
              "      <td>NaN</td>\n",
              "      <td>NaN</td>\n",
              "      <td>NaN</td>\n",
              "      <td>NaN</td>\n",
              "      <td>Stair</td>\n",
              "      <td>YES</td>\n",
              "      <td>NaN</td>\n",
              "      <td>YES</td>\n",
              "      <td>FULL</td>\n",
              "      <td>NaN</td>\n",
              "      <td>False</td>\n",
              "      <td>NaN</td>\n",
              "      <td>True</td>\n",
              "      <td>5th Ave</td>\n",
              "      <td>60th St</td>\n",
              "      <td>NE</td>\n",
              "      <td>40.764849</td>\n",
              "      <td>-73.972306</td>\n",
              "      <td>(40.764811, -73.973347)</td>\n",
              "      <td>(40.764849, -73.972306)</td>\n",
              "    </tr>\n",
              "    <tr>\n",
              "      <th>154</th>\n",
              "      <td>BMT</td>\n",
              "      <td>Broadway</td>\n",
              "      <td>8th St</td>\n",
              "      <td>40.730328</td>\n",
              "      <td>-73.992629</td>\n",
              "      <td>N</td>\n",
              "      <td>R</td>\n",
              "      <td>NaN</td>\n",
              "      <td>NaN</td>\n",
              "      <td>NaN</td>\n",
              "      <td>NaN</td>\n",
              "      <td>NaN</td>\n",
              "      <td>NaN</td>\n",
              "      <td>NaN</td>\n",
              "      <td>NaN</td>\n",
              "      <td>NaN</td>\n",
              "      <td>Stair</td>\n",
              "      <td>YES</td>\n",
              "      <td>NaN</td>\n",
              "      <td>YES</td>\n",
              "      <td>NONE</td>\n",
              "      <td>NaN</td>\n",
              "      <td>False</td>\n",
              "      <td>NaN</td>\n",
              "      <td>False</td>\n",
              "      <td>Broadway</td>\n",
              "      <td>8th Ave</td>\n",
              "      <td>NW</td>\n",
              "      <td>40.730716</td>\n",
              "      <td>-73.992517</td>\n",
              "      <td>(40.730328, -73.992629)</td>\n",
              "      <td>(40.730716, -73.992517)</td>\n",
              "    </tr>\n",
              "    <tr>\n",
              "      <th>162</th>\n",
              "      <td>BMT</td>\n",
              "      <td>Broadway</td>\n",
              "      <td>Canal St (UL)</td>\n",
              "      <td>40.719527</td>\n",
              "      <td>-74.001775</td>\n",
              "      <td>J</td>\n",
              "      <td>N</td>\n",
              "      <td>Q</td>\n",
              "      <td>R</td>\n",
              "      <td>Z</td>\n",
              "      <td>6</td>\n",
              "      <td>NaN</td>\n",
              "      <td>NaN</td>\n",
              "      <td>NaN</td>\n",
              "      <td>NaN</td>\n",
              "      <td>NaN</td>\n",
              "      <td>Stair</td>\n",
              "      <td>YES</td>\n",
              "      <td>NaN</td>\n",
              "      <td>YES</td>\n",
              "      <td>PART</td>\n",
              "      <td>6am-9:40pm everyday</td>\n",
              "      <td>False</td>\n",
              "      <td>NaN</td>\n",
              "      <td>True</td>\n",
              "      <td>Broadway</td>\n",
              "      <td>Canal St</td>\n",
              "      <td>SE</td>\n",
              "      <td>40.719166</td>\n",
              "      <td>-74.001774</td>\n",
              "      <td>(40.719527, -74.001775)</td>\n",
              "      <td>(40.719166, -74.001774)</td>\n",
              "    </tr>\n",
              "    <tr>\n",
              "      <th>169</th>\n",
              "      <td>BMT</td>\n",
              "      <td>Broadway</td>\n",
              "      <td>City Hall</td>\n",
              "      <td>40.713282</td>\n",
              "      <td>-74.006978</td>\n",
              "      <td>R</td>\n",
              "      <td>NaN</td>\n",
              "      <td>NaN</td>\n",
              "      <td>NaN</td>\n",
              "      <td>NaN</td>\n",
              "      <td>NaN</td>\n",
              "      <td>NaN</td>\n",
              "      <td>NaN</td>\n",
              "      <td>NaN</td>\n",
              "      <td>NaN</td>\n",
              "      <td>NaN</td>\n",
              "      <td>Stair</td>\n",
              "      <td>YES</td>\n",
              "      <td>NaN</td>\n",
              "      <td>YES</td>\n",
              "      <td>FULL</td>\n",
              "      <td>NaN</td>\n",
              "      <td>False</td>\n",
              "      <td>NaN</td>\n",
              "      <td>True</td>\n",
              "      <td>Broadway</td>\n",
              "      <td>Warren St</td>\n",
              "      <td>NE</td>\n",
              "      <td>40.713437</td>\n",
              "      <td>-74.006760</td>\n",
              "      <td>(40.713282, -74.006978)</td>\n",
              "      <td>(40.713437, -74.00676)</td>\n",
              "    </tr>\n",
              "    <tr>\n",
              "      <th>172</th>\n",
              "      <td>BMT</td>\n",
              "      <td>Broadway</td>\n",
              "      <td>Cortlandt St</td>\n",
              "      <td>40.710668</td>\n",
              "      <td>-74.011029</td>\n",
              "      <td>R</td>\n",
              "      <td>NaN</td>\n",
              "      <td>NaN</td>\n",
              "      <td>NaN</td>\n",
              "      <td>NaN</td>\n",
              "      <td>NaN</td>\n",
              "      <td>NaN</td>\n",
              "      <td>NaN</td>\n",
              "      <td>NaN</td>\n",
              "      <td>NaN</td>\n",
              "      <td>NaN</td>\n",
              "      <td>Stair</td>\n",
              "      <td>NO</td>\n",
              "      <td>NaN</td>\n",
              "      <td>NO</td>\n",
              "      <td>FULL</td>\n",
              "      <td>NaN</td>\n",
              "      <td>False</td>\n",
              "      <td>NaN</td>\n",
              "      <td>True</td>\n",
              "      <td>Church St</td>\n",
              "      <td>Dey St</td>\n",
              "      <td>SE</td>\n",
              "      <td>40.711065</td>\n",
              "      <td>-74.010644</td>\n",
              "      <td>(40.710668, -74.011029)</td>\n",
              "      <td>(40.711065, -74.010644)</td>\n",
              "    </tr>\n",
              "  </tbody>\n",
              "</table>\n",
              "</div>"
            ],
            "text/plain": [
              "    Division      Line  ...         Station Location        Entrance Location\n",
              "0        BMT  4 Avenue  ...  (40.660397, -73.998091)   (40.660489, -73.99822)\n",
              "2        BMT  4 Avenue  ...  (40.655144, -74.003549)  (40.654676, -74.004306)\n",
              "5        BMT  4 Avenue  ...  (40.648939, -74.010006)  (40.649389, -74.009333)\n",
              "9        BMT  4 Avenue  ...  (40.645069, -74.014034)  (40.644756, -74.014586)\n",
              "14       BMT  4 Avenue  ...  (40.641362, -74.017881)  (40.641606, -74.017897)\n",
              "20       BMT  4 Avenue  ...   (40.629742, -74.02551)   (40.62955, -74.025731)\n",
              "23       BMT  4 Avenue  ...  (40.622687, -74.028398)  (40.622583, -74.028315)\n",
              "26       BMT  4 Avenue  ...  (40.616622, -74.030876)  (40.616021, -74.031383)\n",
              "31       BMT  4 Avenue  ...  (40.670847, -73.988302)   (40.670387, -73.98848)\n",
              "33       BMT  4 Avenue  ...   (40.683666, -73.97881)  (40.683805, -73.978487)\n",
              "34       BMT  4 Avenue  ...  (40.634967, -74.023377)   (40.634827, -74.02358)\n",
              "37       BMT  4 Avenue  ...  (40.690635, -73.981824)  (40.689804, -73.981164)\n",
              "43       BMT  4 Avenue  ...   (40.683666, -73.97881)  (40.683905, -73.978879)\n",
              "45       BMT  4 Avenue  ...  (40.665414, -73.992872)  (40.665299, -73.992729)\n",
              "48       BMT  4 Avenue  ...   (40.677316, -73.98311)   (40.677171, -73.98302)\n",
              "52       BMT   Astoria  ...  (40.766779, -73.921479)    (40.7667, -73.921406)\n",
              "56       BMT   Astoria  ...  (40.756804, -73.929575)  (40.756379, -73.929766)\n",
              "59       BMT   Astoria  ...  (40.752882, -73.932755)  (40.752491, -73.932936)\n",
              "61       BMT   Astoria  ...  (40.770258, -73.917843)   (40.77017, -73.917755)\n",
              "65       BMT   Astoria  ...   (40.76182, -73.925508)  (40.762217, -73.925349)\n",
              "68       BMT   Astoria  ...  (40.775036, -73.912034)  (40.774938, -73.912337)\n",
              "72       BMT  Brighton  ...   (40.67705, -73.972367)  (40.677324, -73.972212)\n",
              "74       BMT  Brighton  ...    (40.68446, -73.97689)  (40.685222, -73.977628)\n",
              "75       BMT  Brighton  ...   (40.62927, -73.961639)   (40.62993, -73.961477)\n",
              "77       BMT  Brighton  ...  (40.625039, -73.960803)  (40.625307, -73.960969)\n",
              "80       BMT  Brighton  ...  (40.617618, -73.959399)  (40.617928, -73.959454)\n",
              "82       BMT  Brighton  ...    (40.5993, -73.955929)  (40.598991, -73.955828)\n",
              "83       BMT  Brighton  ...  (40.644031, -73.964492)  (40.644272, -73.964528)\n",
              "84       BMT  Brighton  ...  (40.577621, -73.961376)  (40.577618, -73.961994)\n",
              "92       BMT  Brighton  ...  (40.650527, -73.962982)  (40.649427, -73.963356)\n",
              "94       BMT  Brighton  ...  (40.640927, -73.963891)  (40.641314, -73.963996)\n",
              "95       BMT  Brighton  ...   (40.60867, -73.957734)  (40.609062, -73.957808)\n",
              "98       BMT  Brighton  ...  (40.595246, -73.955161)    (40.59502, -73.95512)\n",
              "99       BMT  Brighton  ...  (40.635082, -73.962793)  (40.635034, -73.962736)\n",
              "100      BMT  Brighton  ...  (40.576312, -73.968501)  (40.576209, -73.967875)\n",
              "106      BMT  Brighton  ...  (40.655292, -73.961495)  (40.655221, -73.961516)\n",
              "108      BMT  Brighton  ...  (40.661614, -73.962246)  (40.660792, -73.962109)\n",
              "111      BMT  Brighton  ...  (40.586896, -73.954155)  (40.587302, -73.954224)\n",
              "113      BMT  Brighton  ...  (40.577422, -73.981233)  (40.576241, -73.981077)\n",
              "114      BMT  Brighton  ...  (40.576127, -73.975939)   (40.575752, -73.97674)\n",
              "116      BMT  Broadway  ...  (40.741303, -73.989344)   (40.74108, -73.989083)\n",
              "124      BMT  Broadway  ...  (40.745494, -73.988691)  (40.745089, -73.988472)\n",
              "128      BMT  Broadway  ...   (40.749567, -73.98795)    (40.74959, -73.98762)\n",
              "132      BMT  Broadway  ...  (40.759901, -73.984139)  (40.760486, -73.983974)\n",
              "139      BMT  Broadway  ...  (40.764664, -73.980658)  (40.765298, -73.980033)\n",
              "147      BMT  Broadway  ...  (40.764811, -73.973347)  (40.764849, -73.972306)\n",
              "154      BMT  Broadway  ...  (40.730328, -73.992629)  (40.730716, -73.992517)\n",
              "162      BMT  Broadway  ...  (40.719527, -74.001775)  (40.719166, -74.001774)\n",
              "169      BMT  Broadway  ...  (40.713282, -74.006978)   (40.713437, -74.00676)\n",
              "172      BMT  Broadway  ...  (40.710668, -74.011029)  (40.711065, -74.010644)\n",
              "\n",
              "[50 rows x 32 columns]"
            ]
          },
          "metadata": {
            "tags": []
          },
          "execution_count": 16
        }
      ]
    },
    {
      "cell_type": "code",
      "metadata": {
        "id": "EeIKp0mMJl0J"
      },
      "source": [
        "subway_latitude = tuple(df_1[\"Station Latitude\"])\n",
        "subway_longitude = tuple(df_1[\"Station Longitude\"])"
      ],
      "execution_count": null,
      "outputs": []
    },
    {
      "cell_type": "markdown",
      "metadata": {
        "id": "m1ZIAmt-DMpm"
      },
      "source": [
        "# Data Exploration\n",
        "\n"
      ]
    },
    {
      "cell_type": "markdown",
      "metadata": {
        "id": "qOg6V9rvDeCJ"
      },
      "source": [
        "## Correlation between number of reviews and price"
      ]
    },
    {
      "cell_type": "code",
      "metadata": {
        "id": "9Uthg5ug2gqx",
        "colab": {
          "base_uri": "https://localhost:8080/"
        },
        "outputId": "1b52a6be-7eae-404d-8be7-0b5a1725f337"
      },
      "source": [
        "df[\"number_of_reviews\"].mean()"
      ],
      "execution_count": null,
      "outputs": [
        {
          "output_type": "execute_result",
          "data": {
            "text/plain": [
              "23.274465691788528"
            ]
          },
          "metadata": {
            "tags": []
          },
          "execution_count": 18
        }
      ]
    },
    {
      "cell_type": "code",
      "metadata": {
        "id": "t9bCM0S05S6u",
        "colab": {
          "base_uri": "https://localhost:8080/"
        },
        "outputId": "3a3b386d-104f-4d67-ef83-235fc5ee02de"
      },
      "source": [
        "def num_of_reviews_simplified(num):\n",
        "  r = int(num)\n",
        "  if r < 11.637232845894264:\n",
        "    a = 1\n",
        "    return a\n",
        "  elif 11.637232845894264 < r < 23.274465691788528:\n",
        "    a = 2\n",
        "    return a\n",
        "  elif 23.274465691788528 < r < 34.911698537682796:\n",
        "    a = 3\n",
        "    return a\n",
        "  else:\n",
        "    a = 4\n",
        "    return a       \n",
        "\n",
        "df[\"number_of_reviews_by_num\"] = df[\"number_of_reviews\"].apply(num_of_reviews_simplified)\n",
        "entire_home_set[\"number_of_reviews_by_num\"] = entire_home_set[\"number_of_reviews\"].apply(num_of_reviews_simplified)\n",
        "shared_room_set[\"number_of_reviews_by_num\"] = shared_room_set[\"number_of_reviews\"].apply(num_of_reviews_simplified)\n",
        "private_room_set[\"number_of_reviews_by_num\"] = private_room_set[\"number_of_reviews\"].apply(num_of_reviews_simplified)"
      ],
      "execution_count": null,
      "outputs": [
        {
          "output_type": "stream",
          "text": [
            "/usr/local/lib/python3.6/dist-packages/ipykernel_launcher.py:17: SettingWithCopyWarning: \n",
            "A value is trying to be set on a copy of a slice from a DataFrame.\n",
            "Try using .loc[row_indexer,col_indexer] = value instead\n",
            "\n",
            "See the caveats in the documentation: https://pandas.pydata.org/pandas-docs/stable/user_guide/indexing.html#returning-a-view-versus-a-copy\n",
            "/usr/local/lib/python3.6/dist-packages/ipykernel_launcher.py:18: SettingWithCopyWarning: \n",
            "A value is trying to be set on a copy of a slice from a DataFrame.\n",
            "Try using .loc[row_indexer,col_indexer] = value instead\n",
            "\n",
            "See the caveats in the documentation: https://pandas.pydata.org/pandas-docs/stable/user_guide/indexing.html#returning-a-view-versus-a-copy\n",
            "/usr/local/lib/python3.6/dist-packages/ipykernel_launcher.py:19: SettingWithCopyWarning: \n",
            "A value is trying to be set on a copy of a slice from a DataFrame.\n",
            "Try using .loc[row_indexer,col_indexer] = value instead\n",
            "\n",
            "See the caveats in the documentation: https://pandas.pydata.org/pandas-docs/stable/user_guide/indexing.html#returning-a-view-versus-a-copy\n"
          ],
          "name": "stderr"
        }
      ]
    },
    {
      "cell_type": "code",
      "metadata": {
        "id": "mP58PbjG2brV",
        "colab": {
          "base_uri": "https://localhost:8080/",
          "height": 298
        },
        "outputId": "4c587114-fc06-448a-ac5d-77164e8e7e88"
      },
      "source": [
        "sns.barplot(x= \"number_of_reviews_by_num\", y= \"price\", data = df)"
      ],
      "execution_count": null,
      "outputs": [
        {
          "output_type": "execute_result",
          "data": {
            "text/plain": [
              "<matplotlib.axes._subplots.AxesSubplot at 0x7f7e37aaec18>"
            ]
          },
          "metadata": {
            "tags": []
          },
          "execution_count": 20
        },
        {
          "output_type": "display_data",
          "data": {
            "image/png": "[encoded data removed]",
            "text/plain": [
              "<Figure size 432x288 with 1 Axes>"
            ]
          },
          "metadata": {
            "tags": [],
            "needs_background": "light"
          }
        }
      ]
    },
    {
      "cell_type": "code",
      "metadata": {
        "id": "vFkf43sdn4M6",
        "colab": {
          "base_uri": "https://localhost:8080/"
        },
        "outputId": "68e11d9a-98bf-41bc-c402-2e1256a17379"
      },
      "source": [
        "stats.pointbiserialr(df[\"price\"], df[\"number_of_reviews_by_num\"])"
      ],
      "execution_count": null,
      "outputs": [
        {
          "output_type": "execute_result",
          "data": {
            "text/plain": [
              "PointbiserialrResult(correlation=-0.05512903892665535, pvalue=3.1382883813392194e-34)"
            ]
          },
          "metadata": {
            "tags": []
          },
          "execution_count": 21
        }
      ]
    },
    {
      "cell_type": "code",
      "metadata": {
        "id": "Qkv1LSBt1Nhy",
        "colab": {
          "base_uri": "https://localhost:8080/",
          "height": 423
        },
        "outputId": "404b0f5d-5069-4916-8243-f3e8e74f1564"
      },
      "source": [
        "fig, (ax1, ax2, ax3) = plt.subplots(1, 3, figsize=(18, 6))\n",
        "sns.barplot(x= \"number_of_reviews_by_num\", y= \"price\", data = entire_home_set, ax = ax1)\n",
        "ax1.set_title(\"Entire Home\")\n",
        "sns.barplot(x= \"number_of_reviews_by_num\", y= \"price\", data = shared_room_set, ax = ax2)\n",
        "ax2.set_title(\"Shared Room\")\n",
        "sns.barplot(x= \"number_of_reviews_by_num\", y= \"price\", data = private_room_set, ax = ax3)\n",
        "ax3.set_title(\"Private Room\")"
      ],
      "execution_count": null,
      "outputs": [
        {
          "output_type": "execute_result",
          "data": {
            "text/plain": [
              "Text(0.5, 1.0, 'Private Room')"
            ]
          },
          "metadata": {
            "tags": []
          },
          "execution_count": 22
        },
        {
          "output_type": "display_data",
          "data": {
            "image/png": "[encoded data removed]",
            "text/plain": [
              "<Figure size 1296x432 with 3 Axes>"
            ]
          },
          "metadata": {
            "tags": [],
            "needs_background": "light"
          }
        }
      ]
    },
    {
      "cell_type": "code",
      "metadata": {
        "id": "PQuaEuNh1imS",
        "colab": {
          "base_uri": "https://localhost:8080/"
        },
        "outputId": "fdb6c25d-2c36-42ee-fa2a-144f904246f5"
      },
      "source": [
        "a = stats.pointbiserialr(entire_home_set[\"price\"], entire_home_set[\"number_of_reviews_by_num\"])\n",
        "b = stats.pointbiserialr(shared_room_set[\"price\"], shared_room_set[\"number_of_reviews_by_num\"])\n",
        "c = stats.pointbiserialr(private_room_set[\"price\"], private_room_set[\"number_of_reviews_by_num\"])\n",
        "print(a)\n",
        "print(b)\n",
        "print(c)"
      ],
      "execution_count": null,
      "outputs": [
        {
          "output_type": "stream",
          "text": [
            "PointbiserialrResult(correlation=-0.0650417968560021, pvalue=3.113574244190179e-25)\n",
            "PointbiserialrResult(correlation=-0.06504096136016113, pvalue=0.02674820309311629)\n",
            "PointbiserialrResult(correlation=-0.042495719601080714, pvalue=2.122896529798404e-10)\n"
          ],
          "name": "stdout"
        }
      ]
    },
    {
      "cell_type": "markdown",
      "metadata": {
        "id": "ALQrVXw151GK"
      },
      "source": [
        "###Initial findings:"
      ]
    },
    {
      "cell_type": "markdown",
      "metadata": {
        "id": "zElbyRE9r1_j"
      },
      "source": [
        "There seems to be a negative correlation with a small value. This indicates that the price of the AirBnb's drop as the number of reviews they receive increases. One reason for this can be that AirBnb's with lower prices might be attracting more customers, which results in more reviews. However this could also be a result of data manipulation because since we are comparing by total number of reviews an AirBnb which has been on the system longer in comparison may have more reviews even though it doesn't attract many customers. We need to have more understanding on this correlation so we will continue by analysing the number of reviews per month data, which should give us a more accurate result."
      ]
    },
    {
      "cell_type": "markdown",
      "metadata": {
        "id": "MXZ7QXdw5-E0"
      },
      "source": [
        "## Correlation between number of reviews per month and price"
      ]
    },
    {
      "cell_type": "code",
      "metadata": {
        "id": "Q_QU8fMTqG64",
        "colab": {
          "base_uri": "https://localhost:8080/"
        },
        "outputId": "7b355873-20f7-417a-aae3-12ffba48c9d9"
      },
      "source": [
        "a = df[\"reviews_per_month\"].mean()/2\n",
        "b = df[\"reviews_per_month\"].mean()\n",
        "c = df[\"reviews_per_month\"].mean()*3/2\n",
        "print (a , b , c)"
      ],
      "execution_count": null,
      "outputs": [
        {
          "output_type": "stream",
          "text": [
            "0.6866107149293442 1.3732214298586884 2.059832144788033\n"
          ],
          "name": "stdout"
        }
      ]
    },
    {
      "cell_type": "code",
      "metadata": {
        "id": "zqc-1AoSqQVn",
        "colab": {
          "base_uri": "https://localhost:8080/"
        },
        "outputId": "31c7fffe-d938-4dca-9858-45306de308de"
      },
      "source": [
        "def reviews_per_month_simplified(num):\n",
        "  r = float(num)\n",
        "  if r < 0.6866107149293442:\n",
        "    a = 1\n",
        "    return a\n",
        "  elif 0.6866107149293442 < r < 1.3732214298586884:\n",
        "    a = 2\n",
        "    return a\n",
        "  elif 1.3732214298586884 < r < 2.059832144788033:\n",
        "    a = 3\n",
        "    return a\n",
        "  else:\n",
        "    a = 4\n",
        "    return a       \n",
        "\n",
        "df[\"reviews_per_month_by_num\"] = df[\"reviews_per_month\"].apply(reviews_per_month_simplified)\n",
        "entire_home_set[\"reviews_per_month_by_num\"] = entire_home_set[\"reviews_per_month\"].apply(reviews_per_month_simplified)\n",
        "shared_room_set[\"reviews_per_month_by_num\"] = shared_room_set[\"reviews_per_month\"].apply(reviews_per_month_simplified)\n",
        "private_room_set[\"reviews_per_month_by_num\"] = private_room_set[\"reviews_per_month\"].apply(reviews_per_month_simplified)\n"
      ],
      "execution_count": null,
      "outputs": [
        {
          "output_type": "stream",
          "text": [
            "/usr/local/lib/python3.6/dist-packages/ipykernel_launcher.py:17: SettingWithCopyWarning: \n",
            "A value is trying to be set on a copy of a slice from a DataFrame.\n",
            "Try using .loc[row_indexer,col_indexer] = value instead\n",
            "\n",
            "See the caveats in the documentation: https://pandas.pydata.org/pandas-docs/stable/user_guide/indexing.html#returning-a-view-versus-a-copy\n",
            "/usr/local/lib/python3.6/dist-packages/ipykernel_launcher.py:18: SettingWithCopyWarning: \n",
            "A value is trying to be set on a copy of a slice from a DataFrame.\n",
            "Try using .loc[row_indexer,col_indexer] = value instead\n",
            "\n",
            "See the caveats in the documentation: https://pandas.pydata.org/pandas-docs/stable/user_guide/indexing.html#returning-a-view-versus-a-copy\n",
            "/usr/local/lib/python3.6/dist-packages/ipykernel_launcher.py:19: SettingWithCopyWarning: \n",
            "A value is trying to be set on a copy of a slice from a DataFrame.\n",
            "Try using .loc[row_indexer,col_indexer] = value instead\n",
            "\n",
            "See the caveats in the documentation: https://pandas.pydata.org/pandas-docs/stable/user_guide/indexing.html#returning-a-view-versus-a-copy\n"
          ],
          "name": "stderr"
        }
      ]
    },
    {
      "cell_type": "code",
      "metadata": {
        "id": "SD-WNhCKriI_",
        "colab": {
          "base_uri": "https://localhost:8080/",
          "height": 298
        },
        "outputId": "7b278e3a-99d1-41fe-c298-fb3364cf75bc"
      },
      "source": [
        "sns.barplot(x= \"reviews_per_month_by_num\", y= \"price\", data = df)"
      ],
      "execution_count": null,
      "outputs": [
        {
          "output_type": "execute_result",
          "data": {
            "text/plain": [
              "<matplotlib.axes._subplots.AxesSubplot at 0x7f7e2c3f2630>"
            ]
          },
          "metadata": {
            "tags": []
          },
          "execution_count": 26
        },
        {
          "output_type": "display_data",
          "data": {
            "image/png": "[encoded data removed]",
            "text/plain": [
              "<Figure size 432x288 with 1 Axes>"
            ]
          },
          "metadata": {
            "tags": [],
            "needs_background": "light"
          }
        }
      ]
    },
    {
      "cell_type": "code",
      "metadata": {
        "id": "0PZNyacMqOZ_",
        "colab": {
          "base_uri": "https://localhost:8080/"
        },
        "outputId": "22356708-dca8-405b-e223-73a699ae3fa8"
      },
      "source": [
        "stats.pointbiserialr(df[\"price\"], df[\"reviews_per_month_by_num\"])"
      ],
      "execution_count": null,
      "outputs": [
        {
          "output_type": "execute_result",
          "data": {
            "text/plain": [
              "PointbiserialrResult(correlation=0.03320792069619965, pvalue=2.0599880564826523e-13)"
            ]
          },
          "metadata": {
            "tags": []
          },
          "execution_count": 27
        }
      ]
    },
    {
      "cell_type": "code",
      "metadata": {
        "id": "IWBVpTy-tY4N",
        "colab": {
          "base_uri": "https://localhost:8080/",
          "height": 423
        },
        "outputId": "1cf27d8e-4add-48ef-957c-33f2c69a8510"
      },
      "source": [
        "fig, (ax1, ax2, ax3) = plt.subplots(1, 3, figsize=(18, 6))\n",
        "sns.barplot(x= \"reviews_per_month_by_num\", y= \"price\", data = entire_home_set, ax = ax1)\n",
        "ax1.set_title(\"Entire Home\")\n",
        "sns.barplot(x= \"reviews_per_month_by_num\", y= \"price\", data = shared_room_set, ax = ax2)\n",
        "ax2.set_title(\"Shared Room\")\n",
        "sns.barplot(x= \"reviews_per_month_by_num\", y= \"price\", data = private_room_set, ax = ax3)\n",
        "ax3.set_title(\"Private Room\")"
      ],
      "execution_count": null,
      "outputs": [
        {
          "output_type": "execute_result",
          "data": {
            "text/plain": [
              "Text(0.5, 1.0, 'Private Room')"
            ]
          },
          "metadata": {
            "tags": []
          },
          "execution_count": 28
        },
        {
          "output_type": "display_data",
          "data": {
            "image/png": "[encoded data removed]",
            "text/plain": [
              "<Figure size 1296x432 with 3 Axes>"
            ]
          },
          "metadata": {
            "tags": [],
            "needs_background": "light"
          }
        }
      ]
    },
    {
      "cell_type": "code",
      "metadata": {
        "id": "IFLJYcrGyVuo",
        "colab": {
          "base_uri": "https://localhost:8080/"
        },
        "outputId": "c4e6baeb-bd60-418a-b082-8c90adc2298f"
      },
      "source": [
        "a = stats.pointbiserialr(entire_home_set[\"price\"], entire_home_set[\"reviews_per_month_by_num\"])\n",
        "b = stats.pointbiserialr(shared_room_set[\"price\"], shared_room_set[\"reviews_per_month_by_num\"])\n",
        "c = stats.pointbiserialr(private_room_set[\"price\"], private_room_set[\"reviews_per_month_by_num\"])\n",
        "print(a)\n",
        "print(b)\n",
        "print(c)"
      ],
      "execution_count": null,
      "outputs": [
        {
          "output_type": "stream",
          "text": [
            "PointbiserialrResult(correlation=0.053163783924045624, pvalue=2.2520578712090812e-17)\n",
            "PointbiserialrResult(correlation=0.005924926914169973, pvalue=0.8402451223762852)\n",
            "PointbiserialrResult(correlation=0.028077524768856634, pvalue=2.7178487625954257e-05)\n"
          ],
          "name": "stdout"
        }
      ]
    },
    {
      "cell_type": "markdown",
      "metadata": {
        "id": "1TczE51W3Qt3"
      },
      "source": [
        "### Final Result:"
      ]
    },
    {
      "cell_type": "markdown",
      "metadata": {
        "id": "Bkm576pV5b8t"
      },
      "source": [
        "The analysis of reviews per month data gave us a positive correlation. This proves that there has been a data manipulation in the analysis of total reviews. As for the question of a correlation, the correlation coefficients are little and the graphs are unstable, so it is quite possible that a correlation doesn't exist. However, while the columns 1, 2 and 3 are unstable, there is a visible increase in the 4th columns, so our final conclusion is that the number of reviews received in columns 1, 2 or 3 doesn't mean a demand high enough to cause a raise that will have an impact on this data, but reviews received in the 4th columns do, and that is the only correlation."
      ]
    },
    {
      "cell_type": "markdown",
      "metadata": {
        "id": "SvHEefh05gdg"
      },
      "source": [
        "## Correlation between room types and price"
      ]
    },
    {
      "cell_type": "code",
      "metadata": {
        "id": "WqP59S709l-2",
        "colab": {
          "base_uri": "https://localhost:8080/",
          "height": 298
        },
        "outputId": "7f44db92-e9c3-4e07-df09-086c45b5299f"
      },
      "source": [
        "sns.barplot(x= \"room_type\", y= \"price\", data = df)"
      ],
      "execution_count": null,
      "outputs": [
        {
          "output_type": "execute_result",
          "data": {
            "text/plain": [
              "<matplotlib.axes._subplots.AxesSubplot at 0x7f7e2967c6a0>"
            ]
          },
          "metadata": {
            "tags": []
          },
          "execution_count": 30
        },
        {
          "output_type": "display_data",
          "data": {
            "image/png": "[encoded data removed]",
            "text/plain": [
              "<Figure size 432x288 with 1 Axes>"
            ]
          },
          "metadata": {
            "tags": [],
            "needs_background": "light"
          }
        }
      ]
    },
    {
      "cell_type": "markdown",
      "metadata": {
        "id": "kgnk5KO87yRx"
      },
      "source": [
        "### Result:"
      ]
    },
    {
      "cell_type": "markdown",
      "metadata": {
        "id": "41U68x1y734y"
      },
      "source": [
        "There is a visible and predictable correlation in this one. The entire homes are priced highest and even though they are close we can easiliy observe that private rooms cost more than shared rooms."
      ]
    },
    {
      "cell_type": "markdown",
      "metadata": {
        "id": "zv4Ky84z8Kz4"
      },
      "source": [
        "## Correlation between neighbourhoods and price"
      ]
    },
    {
      "cell_type": "code",
      "metadata": {
        "id": "6XrBQHVkHmSp",
        "colab": {
          "base_uri": "https://localhost:8080/",
          "height": 298
        },
        "outputId": "5ac2fd76-7eb5-49c3-ac6a-513891314dd0"
      },
      "source": [
        "sns.barplot(x= \"neighbourhood_group\", y= \"price\", data = df)"
      ],
      "execution_count": null,
      "outputs": [
        {
          "output_type": "execute_result",
          "data": {
            "text/plain": [
              "<matplotlib.axes._subplots.AxesSubplot at 0x7f7e2944e5f8>"
            ]
          },
          "metadata": {
            "tags": []
          },
          "execution_count": 31
        },
        {
          "output_type": "display_data",
          "data": {
            "image/png": "[encoded data removed]",
            "text/plain": [
              "<Figure size 432x288 with 1 Axes>"
            ]
          },
          "metadata": {
            "tags": [],
            "needs_background": "light"
          }
        }
      ]
    },
    {
      "cell_type": "markdown",
      "metadata": {
        "id": "qV5e9PaR_bsB"
      },
      "source": [
        "###Result:"
      ]
    },
    {
      "cell_type": "markdown",
      "metadata": {
        "id": "qPf8w6cxA3b5"
      },
      "source": [
        "The ranking is obvious on the graph, so there is a correlaition as Manhattan > Brooklyn > Staten Island > Queens > Bronx. However the reason for this ranking is unknow, in order to find out the reason we have to analyse the neighbourhoods."
      ]
    },
    {
      "cell_type": "markdown",
      "metadata": {
        "id": "HIfzCcAfBTo2"
      },
      "source": [
        "###The room type distribution between neighbourhoods:"
      ]
    },
    {
      "cell_type": "code",
      "metadata": {
        "id": "Luge2QN33fnn",
        "colab": {
          "base_uri": "https://localhost:8080/",
          "height": 251
        },
        "outputId": "2099e7c8-20e8-4d70-b36e-be8afd3d0b4e"
      },
      "source": [
        "import matplotlib.pyplot as plt\n",
        "\n",
        "# Pie chart, where the slices will be ordered and plotted counter-clockwise:\n",
        "labels = 'Entire Home/Apt', 'Private Room', 'Shared Room'\n",
        "sizes = [man_entire, man_priv, man_share]\n",
        "sizes1 = [brk_entire, brk_priv, brk_share]\n",
        "sizes2 = [si_entire, si_priv, si_share]\n",
        "sizes3 = [bx_entire, bx_priv, bx_share]\n",
        "sizes4 = [queens_entire, queens_priv, queens_share]\n",
        "#explode = (0, 0, 0, 0)  # only \"explode\" the 2nd slice (i.e. 'Hogs')\n",
        "\n",
        "fig1, (ax1, ax2, ax3, ax4, ax5) = plt.subplots(1,5,figsize=(22,4))\n",
        "ax1.pie(sizes, autopct='%1.1f%%',\n",
        "        shadow=True, startangle=90)\n",
        "ax1.axis('equal')  # Equal aspect ratio ensures that pie is drawn as a circle.\n",
        "ax1.set_title(\"Manhattan\", loc = \"center\")\n",
        "\n",
        "ax2.pie(sizes1, autopct='%1.1f%%',\n",
        "        shadow=True, startangle=90)\n",
        "ax2.axis('equal')\n",
        "ax2.set_title(\"Brooklyn\", loc = \"center\")\n",
        "\n",
        "ax3.pie(sizes2, autopct='%1.1f%%',\n",
        "        shadow=True, startangle=90)\n",
        "ax3.axis('equal')\n",
        "ax3.set_title(\"Staten Island\", loc = \"center\")\n",
        "\n",
        "ax4.pie(sizes3, autopct='%1.1f%%',\n",
        "        shadow=True, startangle=90)\n",
        "ax4.axis('equal')\n",
        "ax4.set_title(\"Bronx\", loc = \"center\")\n",
        "\n",
        "ax5.pie(sizes4, autopct='%1.1f%%',\n",
        "        shadow=True, startangle=90)\n",
        "ax5.axis('equal')\n",
        "ax5.set_title(\"Queens\", loc = \"center\")\n",
        "\n",
        "fig1.legend(labels, loc='upper left', frameon=True)\n",
        "\n",
        "plt.show()"
      ],
      "execution_count": null,
      "outputs": [
        {
          "output_type": "display_data",
          "data": {
            "image/png": "[encoded data removed]",
            "text/plain": [
              "<Figure size 1584x288 with 5 Axes>"
            ]
          },
          "metadata": {
            "tags": []
          }
        }
      ]
    },
    {
      "cell_type": "markdown",
      "metadata": {
        "id": "BHX6g1JpKKSx"
      },
      "source": [
        "### Result:"
      ]
    },
    {
      "cell_type": "markdown",
      "metadata": {
        "id": "Hd2Y0Q1tKTrv"
      },
      "source": [
        "Our initial assesment of the neighbourhood groups prices was, Manhattan > Brooklyn > Staten Island > Queens > Bronx, if we look at the percentages of entire home/apartments in the neighbourhood groups, we observe that the same ranking applies. Since we know that entire home/apartments have the highest prices among the room types, we can conclude that one of the reasons behind the price ranking of the neighbourhood groups is room type distribution."
      ]
    },
    {
      "cell_type": "markdown",
      "metadata": {
        "id": "0YwKRWtJD1Z7"
      },
      "source": [
        "##The comparison of public transportation (subways will be used for this analysis) between neighbourhoods:"
      ]
    },
    {
      "cell_type": "markdown",
      "metadata": {
        "id": "QiuyKWobl10J"
      },
      "source": [
        "###Visualization of NYC Subway Data\n",
        "First to have a better understanding of our subway data, we are visualizing the locations with various plots and maps."
      ]
    },
    {
      "cell_type": "code",
      "metadata": {
        "id": "ScfaV9onJtvv",
        "colab": {
          "base_uri": "https://localhost:8080/",
          "height": 788
        },
        "outputId": "23a23310-6548-4d2c-b7b4-abd0db99c4ae"
      },
      "source": [
        "nycmap = folium.Map(location = [subway_latitude[0],subway_longitude[0]])\n",
        "x = float(subway_latitude[0])\n",
        "y = float(subway_longitude[0])\n",
        "for i in range(len(subway_latitude)):\n",
        "  x = float(subway_latitude[i])\n",
        "  y = float(subway_longitude[i])\n",
        "  folium.Marker([x,y]).add_to(nycmap)\n",
        "nycmap"
      ],
      "execution_count": null,
      "outputs": [
        {
          "output_type": "execute_result",
          "data": {
            "text/html": [
              "<div style=\"width:100%;\"><div style=\"position:relative;width:100%;height:0;padding-bottom:60%;\"><span style=\"color:#565656\">Make this Notebook Trusted to load map: File -> Trust Notebook</span><iframe src=\"about:blank\" style=\"position:absolute;width:100%;height:100%;left:0;top:0;border:none !important;\" data-html=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 onload=\"this.contentDocument.open();this.contentDocument.write(atob(this.getAttribute('data-html')));this.contentDocument.close();\" allowfullscreen webkitallowfullscreen mozallowfullscreen></iframe></div></div>"
            ],
            "text/plain": [
              "<folium.folium.Map at 0x7f7e293f47f0>"
            ]
          },
          "metadata": {
            "tags": []
          },
          "execution_count": 33
        }
      ]
    },
    {
      "cell_type": "code",
      "metadata": {
        "id": "9FPlS6lrwPlb",
        "colab": {
          "base_uri": "https://localhost:8080/",
          "height": 406
        },
        "outputId": "b46050e8-9786-4d37-8316-78aa5c45b82b"
      },
      "source": [
        "fig, (ax1, ax2) = plt.subplots(1, 2, figsize=(12, 6))\n",
        "sns.scatterplot(x=\"longitude\", y=\"latitude\", data=df, hue=\"neighbourhood_group\", ax=ax1)\n",
        "sns.scatterplot(x= \"Station Longitude\", y= \"Station Latitude\", data = df_1, ax=ax2, color = \"black\")\n"
      ],
      "execution_count": null,
      "outputs": [
        {
          "output_type": "execute_result",
          "data": {
            "text/plain": [
              "<matplotlib.axes._subplots.AxesSubplot at 0x7f7e2789f390>"
            ]
          },
          "metadata": {
            "tags": []
          },
          "execution_count": 34
        },
        {
          "output_type": "display_data",
          "data": {
            "image/png": "[encoded data removed]",
            "text/plain": [
              "<Figure size 864x432 with 2 Axes>"
            ]
          },
          "metadata": {
            "tags": [],
            "needs_background": "light"
          }
        }
      ]
    },
    {
      "cell_type": "code",
      "metadata": {
        "id": "AreGRzSFZenh",
        "colab": {
          "base_uri": "https://localhost:8080/",
          "height": 515
        },
        "outputId": "5363494a-f6b0-4559-be15-86fc8d6a9c9c"
      },
      "source": [
        "positions = [\"Brooklyn\", \"Manhattan\", \"Bronx\", \"Staten Island\", \"Queens\"]\n",
        "df_pos = df[df[\"neighbourhood_group\"].isin(positions)]  # filter the original df\n",
        "\n",
        "plt.figure(figsize=(8, 8))\n",
        "sns.scatterplot(x=\"longitude\", y=\"latitude\", data=df_pos, hue=\"neighbourhood_group\")  # grouping variable with hue\n",
        "sns.scatterplot(x= \"Station Longitude\", y= \"Station Latitude\", data = df_1, color = \"black\")"
      ],
      "execution_count": null,
      "outputs": [
        {
          "output_type": "execute_result",
          "data": {
            "text/plain": [
              "<matplotlib.axes._subplots.AxesSubplot at 0x7f7e2927a518>"
            ]
          },
          "metadata": {
            "tags": []
          },
          "execution_count": 35
        },
        {
          "output_type": "display_data",
          "data": {
            "image/png": "[encoded data removed]",
            "text/plain": [
              "<Figure size 576x576 with 1 Axes>"
            ]
          },
          "metadata": {
            "tags": [],
            "needs_background": "light"
          }
        }
      ]
    },
    {
      "cell_type": "markdown",
      "metadata": {
        "id": "oxt5mM2LoZOU"
      },
      "source": [
        "By our maps we can observe that there are many subway entrances in NYC but "
      ]
    },
    {
      "cell_type": "markdown",
      "metadata": {
        "id": "saDs-T29tvvu"
      },
      "source": [
        "###Distance calculating to nearest subway\n",
        "We have a hypothesis which indicates that subway entrances has an affect on AirBnb pricing. To study this hypothesis with coordinates given in our both NYC AirBnb and NYC Subway datas, we are calculating the distances between houses and subway entrances and using the closest ones."
      ]
    },
    {
      "cell_type": "markdown",
      "metadata": {
        "id": "WokQUd35yrDD"
      },
      "source": [
        "- We are adapting our datas \"neighbourhood_group\" and \"room_type\" columns to make them available for our machine learning method."
      ]
    },
    {
      "cell_type": "markdown",
      "metadata": {
        "id": "jNst47_7CqPk"
      },
      "source": [
        "#Machine Learning\n",
        "In the Machine Learning part of the project, we will use machine learning methods on our AirBnb data which also has \"Distance to nearest subway\" variables in each row. "
      ]
    },
    {
      "cell_type": "code",
      "metadata": {
        "id": "rN6DLuJQBUhf"
      },
      "source": [
        "def latitudeCal(num) :\n",
        "  latList = []\n",
        "  for i in subway_latitude:\n",
        "    x = num - i\n",
        "    if x < 0:\n",
        "      x = x * -1\n",
        "    latList.append(x)\n",
        "  return min(latList)\n",
        "\n",
        "def longitudeCal(num) :\n",
        "  latList = []\n",
        "  for i in subway_longitude:\n",
        "    x = num - i\n",
        "    if x < 0:\n",
        "      x = x * -1\n",
        "    latList.append(x)\n",
        "  return min(latList)\n",
        "\n",
        "df[\"distance_to_subway_by_latitude\"] = df[\"latitude\"].apply(latitudeCal)\n",
        "df[\"distance_to_subway_by_longitude\"] = df[\"longitude\"].apply(longitudeCal)\n",
        "df[\"distance_to_nearest_subway_parameter\"] = (((df[\"distance_to_subway_by_latitude\"]**2) + (df[\"distance_to_subway_by_longitude\"]**2))** (1/2)) * 100\n",
        "\n",
        "df[\"distance_to_nearest_subway_parameter\"] = df[\"distance_to_nearest_subway_parameter\"].map('{:,.2f}'.format)\n",
        "\n",
        "df = df.drop([\"distance_to_subway_by_latitude\",\"distance_to_subway_by_longitude\"], axis = 1)"
      ],
      "execution_count": null,
      "outputs": []
    },
    {
      "cell_type": "code",
      "metadata": {
        "id": "jt-KN4y01Hh4"
      },
      "source": [
        "df['neighbourhood_group'] = df['neighbourhood_group'].map({\"Manhattan\": 0, \"Brooklyn\": 1, \"Staten Island\": 2, \"Bronx\": 3, \"Queens\": 4})\n",
        "df['room_type'] = df['room_type'].map({'Entire home/apt': 0 , 'Private room': 1 , 'Shared room': 2})"
      ],
      "execution_count": null,
      "outputs": []
    },
    {
      "cell_type": "code",
      "metadata": {
        "id": "BDEHStqvym6H",
        "colab": {
          "base_uri": "https://localhost:8080/",
          "height": 791
        },
        "outputId": "fd0dbc8b-35f7-4b6d-9e97-22c84537652f"
      },
      "source": [
        "df"
      ],
      "execution_count": null,
      "outputs": [
        {
          "output_type": "execute_result",
          "data": {
            "text/html": [
              "<div>\n",
              "<style scoped>\n",
              "    .dataframe tbody tr th:only-of-type {\n",
              "        vertical-align: middle;\n",
              "    }\n",
              "\n",
              "    .dataframe tbody tr th {\n",
              "        vertical-align: top;\n",
              "    }\n",
              "\n",
              "    .dataframe thead th {\n",
              "        text-align: right;\n",
              "    }\n",
              "</style>\n",
              "<table border=\"1\" class=\"dataframe\">\n",
              "  <thead>\n",
              "    <tr style=\"text-align: right;\">\n",
              "      <th></th>\n",
              "      <th>id</th>\n",
              "      <th>name</th>\n",
              "      <th>host_id</th>\n",
              "      <th>host_name</th>\n",
              "      <th>neighbourhood_group</th>\n",
              "      <th>neighbourhood</th>\n",
              "      <th>latitude</th>\n",
              "      <th>longitude</th>\n",
              "      <th>room_type</th>\n",
              "      <th>price</th>\n",
              "      <th>minimum_nights</th>\n",
              "      <th>number_of_reviews</th>\n",
              "      <th>last_review</th>\n",
              "      <th>reviews_per_month</th>\n",
              "      <th>calculated_host_listings_count</th>\n",
              "      <th>availability_365</th>\n",
              "      <th>number_of_reviews_by_num</th>\n",
              "      <th>reviews_per_month_by_num</th>\n",
              "      <th>distance_to_nearest_subway_parameter</th>\n",
              "    </tr>\n",
              "  </thead>\n",
              "  <tbody>\n",
              "    <tr>\n",
              "      <th>0</th>\n",
              "      <td>2539</td>\n",
              "      <td>Clean &amp; quiet apt home by the park</td>\n",
              "      <td>2787</td>\n",
              "      <td>John</td>\n",
              "      <td>1</td>\n",
              "      <td>Kensington</td>\n",
              "      <td>40.64749</td>\n",
              "      <td>-73.97237</td>\n",
              "      <td>1</td>\n",
              "      <td>149</td>\n",
              "      <td>1</td>\n",
              "      <td>9</td>\n",
              "      <td>2018-10-19</td>\n",
              "      <td>0.21</td>\n",
              "      <td>6</td>\n",
              "      <td>365</td>\n",
              "      <td>1</td>\n",
              "      <td>1</td>\n",
              "      <td>0.12</td>\n",
              "    </tr>\n",
              "    <tr>\n",
              "      <th>1</th>\n",
              "      <td>2595</td>\n",
              "      <td>Skylit Midtown Castle</td>\n",
              "      <td>2845</td>\n",
              "      <td>Jennifer</td>\n",
              "      <td>0</td>\n",
              "      <td>Midtown</td>\n",
              "      <td>40.75362</td>\n",
              "      <td>-73.98377</td>\n",
              "      <td>0</td>\n",
              "      <td>225</td>\n",
              "      <td>1</td>\n",
              "      <td>45</td>\n",
              "      <td>2019-05-21</td>\n",
              "      <td>0.38</td>\n",
              "      <td>2</td>\n",
              "      <td>355</td>\n",
              "      <td>4</td>\n",
              "      <td>1</td>\n",
              "      <td>0.06</td>\n",
              "    </tr>\n",
              "    <tr>\n",
              "      <th>2</th>\n",
              "      <td>3647</td>\n",
              "      <td>THE VILLAGE OF HARLEM....NEW YORK !</td>\n",
              "      <td>4632</td>\n",
              "      <td>Elisabeth</td>\n",
              "      <td>0</td>\n",
              "      <td>Harlem</td>\n",
              "      <td>40.80902</td>\n",
              "      <td>-73.94190</td>\n",
              "      <td>1</td>\n",
              "      <td>150</td>\n",
              "      <td>3</td>\n",
              "      <td>0</td>\n",
              "      <td>NaN</td>\n",
              "      <td>NaN</td>\n",
              "      <td>1</td>\n",
              "      <td>365</td>\n",
              "      <td>1</td>\n",
              "      <td>4</td>\n",
              "      <td>0.04</td>\n",
              "    </tr>\n",
              "    <tr>\n",
              "      <th>3</th>\n",
              "      <td>3831</td>\n",
              "      <td>Cozy Entire Floor of Brownstone</td>\n",
              "      <td>4869</td>\n",
              "      <td>LisaRoxanne</td>\n",
              "      <td>1</td>\n",
              "      <td>Clinton Hill</td>\n",
              "      <td>40.68514</td>\n",
              "      <td>-73.95976</td>\n",
              "      <td>0</td>\n",
              "      <td>89</td>\n",
              "      <td>1</td>\n",
              "      <td>270</td>\n",
              "      <td>2019-07-05</td>\n",
              "      <td>4.64</td>\n",
              "      <td>1</td>\n",
              "      <td>194</td>\n",
              "      <td>4</td>\n",
              "      <td>4</td>\n",
              "      <td>0.07</td>\n",
              "    </tr>\n",
              "    <tr>\n",
              "      <th>4</th>\n",
              "      <td>5022</td>\n",
              "      <td>Entire Apt: Spacious Studio/Loft by central park</td>\n",
              "      <td>7192</td>\n",
              "      <td>Laura</td>\n",
              "      <td>0</td>\n",
              "      <td>East Harlem</td>\n",
              "      <td>40.79851</td>\n",
              "      <td>-73.94399</td>\n",
              "      <td>0</td>\n",
              "      <td>80</td>\n",
              "      <td>10</td>\n",
              "      <td>9</td>\n",
              "      <td>2018-11-19</td>\n",
              "      <td>0.10</td>\n",
              "      <td>1</td>\n",
              "      <td>0</td>\n",
              "      <td>1</td>\n",
              "      <td>1</td>\n",
              "      <td>0.06</td>\n",
              "    </tr>\n",
              "    <tr>\n",
              "      <th>...</th>\n",
              "      <td>...</td>\n",
              "      <td>...</td>\n",
              "      <td>...</td>\n",
              "      <td>...</td>\n",
              "      <td>...</td>\n",
              "      <td>...</td>\n",
              "      <td>...</td>\n",
              "      <td>...</td>\n",
              "      <td>...</td>\n",
              "      <td>...</td>\n",
              "      <td>...</td>\n",
              "      <td>...</td>\n",
              "      <td>...</td>\n",
              "      <td>...</td>\n",
              "      <td>...</td>\n",
              "      <td>...</td>\n",
              "      <td>...</td>\n",
              "      <td>...</td>\n",
              "      <td>...</td>\n",
              "    </tr>\n",
              "    <tr>\n",
              "      <th>48890</th>\n",
              "      <td>36484665</td>\n",
              "      <td>Charming one bedroom - newly renovated rowhouse</td>\n",
              "      <td>8232441</td>\n",
              "      <td>Sabrina</td>\n",
              "      <td>1</td>\n",
              "      <td>Bedford-Stuyvesant</td>\n",
              "      <td>40.67853</td>\n",
              "      <td>-73.94995</td>\n",
              "      <td>1</td>\n",
              "      <td>70</td>\n",
              "      <td>2</td>\n",
              "      <td>0</td>\n",
              "      <td>NaN</td>\n",
              "      <td>NaN</td>\n",
              "      <td>2</td>\n",
              "      <td>9</td>\n",
              "      <td>1</td>\n",
              "      <td>4</td>\n",
              "      <td>0.03</td>\n",
              "    </tr>\n",
              "    <tr>\n",
              "      <th>48891</th>\n",
              "      <td>36485057</td>\n",
              "      <td>Affordable room in Bushwick/East Williamsburg</td>\n",
              "      <td>6570630</td>\n",
              "      <td>Marisol</td>\n",
              "      <td>1</td>\n",
              "      <td>Bushwick</td>\n",
              "      <td>40.70184</td>\n",
              "      <td>-73.93317</td>\n",
              "      <td>1</td>\n",
              "      <td>40</td>\n",
              "      <td>4</td>\n",
              "      <td>0</td>\n",
              "      <td>NaN</td>\n",
              "      <td>NaN</td>\n",
              "      <td>2</td>\n",
              "      <td>36</td>\n",
              "      <td>1</td>\n",
              "      <td>4</td>\n",
              "      <td>0.02</td>\n",
              "    </tr>\n",
              "    <tr>\n",
              "      <th>48892</th>\n",
              "      <td>36485431</td>\n",
              "      <td>Sunny Studio at Historical Neighborhood</td>\n",
              "      <td>23492952</td>\n",
              "      <td>Ilgar &amp; Aysel</td>\n",
              "      <td>0</td>\n",
              "      <td>Harlem</td>\n",
              "      <td>40.81475</td>\n",
              "      <td>-73.94867</td>\n",
              "      <td>0</td>\n",
              "      <td>115</td>\n",
              "      <td>10</td>\n",
              "      <td>0</td>\n",
              "      <td>NaN</td>\n",
              "      <td>NaN</td>\n",
              "      <td>1</td>\n",
              "      <td>27</td>\n",
              "      <td>1</td>\n",
              "      <td>4</td>\n",
              "      <td>0.14</td>\n",
              "    </tr>\n",
              "    <tr>\n",
              "      <th>48893</th>\n",
              "      <td>36485609</td>\n",
              "      <td>43rd St. Time Square-cozy single bed</td>\n",
              "      <td>30985759</td>\n",
              "      <td>Taz</td>\n",
              "      <td>0</td>\n",
              "      <td>Hell's Kitchen</td>\n",
              "      <td>40.75751</td>\n",
              "      <td>-73.99112</td>\n",
              "      <td>2</td>\n",
              "      <td>55</td>\n",
              "      <td>1</td>\n",
              "      <td>0</td>\n",
              "      <td>NaN</td>\n",
              "      <td>NaN</td>\n",
              "      <td>6</td>\n",
              "      <td>2</td>\n",
              "      <td>1</td>\n",
              "      <td>4</td>\n",
              "      <td>0.01</td>\n",
              "    </tr>\n",
              "    <tr>\n",
              "      <th>48894</th>\n",
              "      <td>36487245</td>\n",
              "      <td>Trendy duplex in the very heart of Hell's Kitchen</td>\n",
              "      <td>68119814</td>\n",
              "      <td>Christophe</td>\n",
              "      <td>0</td>\n",
              "      <td>Hell's Kitchen</td>\n",
              "      <td>40.76404</td>\n",
              "      <td>-73.98933</td>\n",
              "      <td>1</td>\n",
              "      <td>90</td>\n",
              "      <td>7</td>\n",
              "      <td>0</td>\n",
              "      <td>NaN</td>\n",
              "      <td>NaN</td>\n",
              "      <td>1</td>\n",
              "      <td>23</td>\n",
              "      <td>1</td>\n",
              "      <td>4</td>\n",
              "      <td>0.06</td>\n",
              "    </tr>\n",
              "  </tbody>\n",
              "</table>\n",
              "<p>48895 rows × 19 columns</p>\n",
              "</div>"
            ],
            "text/plain": [
              "             id  ... distance_to_nearest_subway_parameter\n",
              "0          2539  ...                                 0.12\n",
              "1          2595  ...                                 0.06\n",
              "2          3647  ...                                 0.04\n",
              "3          3831  ...                                 0.07\n",
              "4          5022  ...                                 0.06\n",
              "...         ...  ...                                  ...\n",
              "48890  36484665  ...                                 0.03\n",
              "48891  36485057  ...                                 0.02\n",
              "48892  36485431  ...                                 0.14\n",
              "48893  36485609  ...                                 0.01\n",
              "48894  36487245  ...                                 0.06\n",
              "\n",
              "[48895 rows x 19 columns]"
            ]
          },
          "metadata": {
            "tags": []
          },
          "execution_count": 38
        }
      ]
    },
    {
      "cell_type": "markdown",
      "metadata": {
        "id": "-JoJkgjOCccw"
      },
      "source": [
        "We are determining how to split our data and what to make estimations about."
      ]
    },
    {
      "cell_type": "code",
      "metadata": {
        "id": "K2bZT_bQy-9F",
        "colab": {
          "base_uri": "https://localhost:8080/"
        },
        "outputId": "1179243c-18e4-49e1-8d5e-a44925c7d96e"
      },
      "source": [
        "X = df[{'room_type', 'distance_to_nearest_subway_parameter','price'}]\n",
        "y = df['neighbourhood_group']\n",
        "print(X)\n",
        "print(y)"
      ],
      "execution_count": null,
      "outputs": [
        {
          "output_type": "stream",
          "text": [
            "       room_type distance_to_nearest_subway_parameter  price\n",
            "0              1                                 0.12    149\n",
            "1              0                                 0.06    225\n",
            "2              1                                 0.04    150\n",
            "3              0                                 0.07     89\n",
            "4              0                                 0.06     80\n",
            "...          ...                                  ...    ...\n",
            "48890          1                                 0.03     70\n",
            "48891          1                                 0.02     40\n",
            "48892          0                                 0.14    115\n",
            "48893          2                                 0.01     55\n",
            "48894          1                                 0.06     90\n",
            "\n",
            "[48895 rows x 3 columns]\n",
            "0        1\n",
            "1        0\n",
            "2        0\n",
            "3        1\n",
            "4        0\n",
            "        ..\n",
            "48890    1\n",
            "48891    1\n",
            "48892    0\n",
            "48893    0\n",
            "48894    0\n",
            "Name: neighbourhood_group, Length: 48895, dtype: int64\n"
          ],
          "name": "stdout"
        }
      ]
    },
    {
      "cell_type": "markdown",
      "metadata": {
        "id": "yINXnfTGzQ86"
      },
      "source": [
        "Now our data will be splitted to train and test!"
      ]
    },
    {
      "cell_type": "code",
      "metadata": {
        "id": "voF5HOR_zQXI"
      },
      "source": [
        "from sklearn.model_selection import train_test_split\n",
        "\n",
        "# 80% of original dataframe will be train set and 20% of it will be test set to evaluate the Decision Tree\n",
        "X_train, X_test, y_train, y_test = train_test_split(X, y, random_state=42, test_size=0.20)\n",
        "\n",
        "from sklearn import tree\n",
        "\n",
        "model = tree.DecisionTreeClassifier()"
      ],
      "execution_count": null,
      "outputs": []
    },
    {
      "cell_type": "code",
      "metadata": {
        "id": "qMBZTYLFzlJD",
        "colab": {
          "base_uri": "https://localhost:8080/"
        },
        "outputId": "b879d6e6-b6b3-4e6a-a723-7f9e2f47f7c6"
      },
      "source": [
        "model.fit(X_train, y_train)"
      ],
      "execution_count": null,
      "outputs": [
        {
          "output_type": "execute_result",
          "data": {
            "text/plain": [
              "DecisionTreeClassifier(ccp_alpha=0.0, class_weight=None, criterion='gini',\n",
              "                       max_depth=None, max_features=None, max_leaf_nodes=None,\n",
              "                       min_impurity_decrease=0.0, min_impurity_split=None,\n",
              "                       min_samples_leaf=1, min_samples_split=2,\n",
              "                       min_weight_fraction_leaf=0.0, presort='deprecated',\n",
              "                       random_state=None, splitter='best')"
            ]
          },
          "metadata": {
            "tags": []
          },
          "execution_count": 41
        }
      ]
    },
    {
      "cell_type": "code",
      "metadata": {
        "id": "UH950Li-3k2X",
        "colab": {
          "base_uri": "https://localhost:8080/"
        },
        "outputId": "40219488-5ba9-4a8d-bcdc-ae7ea2709e55"
      },
      "source": [
        "from sklearn.model_selection import cross_val_score\n",
        "\n",
        "model = tree.DecisionTreeClassifier() #Create decision tree classifier object\n",
        "\n",
        "accuracies = cross_val_score(model, X_train, y_train, cv=5)\n",
        "accuracies"
      ],
      "execution_count": null,
      "outputs": [
        {
          "output_type": "execute_result",
          "data": {
            "text/plain": [
              "array([0.54895194, 0.55809792, 0.5485108 , 0.54991691, 0.54876646])"
            ]
          },
          "metadata": {
            "tags": []
          },
          "execution_count": 42
        }
      ]
    },
    {
      "cell_type": "code",
      "metadata": {
        "id": "aMnIgDbj3paa",
        "colab": {
          "base_uri": "https://localhost:8080/"
        },
        "outputId": "261c39a1-d009-43d3-ddc5-6703347db2ed"
      },
      "source": [
        "print(\"Accuracy: %0.2f (+/- %0.2f)\" % (accuracies.mean(), accuracies.std() * 2))"
      ],
      "execution_count": null,
      "outputs": [
        {
          "output_type": "stream",
          "text": [
            "Accuracy: 0.55 (+/- 0.01)\n"
          ],
          "name": "stdout"
        }
      ]
    },
    {
      "cell_type": "code",
      "metadata": {
        "id": "XYaJNqjp4Glk"
      },
      "source": [
        "accuracy_list = []\n",
        "accuracy_SD_list = []\n",
        "\n",
        "for depth in range (1, 10):\n",
        "  model = tree.DecisionTreeClassifier(max_depth=depth)\n",
        "  accuracies_CV = cross_val_score(model, X_train, y_train, cv=5)\n",
        "  accuracy_list.append(accuracies_CV.mean())\n",
        "  accuracy_SD_list.append(accuracies_CV.std())"
      ],
      "execution_count": null,
      "outputs": []
    },
    {
      "cell_type": "code",
      "metadata": {
        "id": "MMuZ42xt4Itb",
        "colab": {
          "base_uri": "https://localhost:8080/",
          "height": 404
        },
        "outputId": "a60a674e-4b24-4de7-918c-4a3ae928d685"
      },
      "source": [
        "plt.figure(figsize=(12, 6))  \n",
        "plt.plot(range(1, 10), accuracy_list, color='black', linestyle='solid')\n",
        "plt.plot(range(1, 10), np.array(accuracy_list) + np.array(accuracy_SD_list),color='black', linestyle='dashed')\n",
        "plt.plot(range(1, 10), np.array(accuracy_list) - np.array(accuracy_SD_list),color='black', linestyle='dashed' )\n",
        "plt.fill_between(range(1, 10), np.array(accuracy_list) + np.array(accuracy_SD_list),\n",
        "                 np.array(accuracy_list) - np.array(accuracy_SD_list), alpha=0.2, facecolor ='b')\n",
        "plt.plot()\n",
        "plt.title('5-fold cross validated accuracy w/ max_depth')  \n",
        "plt.xlabel('Max depth')  \n",
        "plt.ylabel('CV Accuracy +/- sd') \n",
        "plt.show()"
      ],
      "execution_count": null,
      "outputs": [
        {
          "output_type": "display_data",
          "data": {
            "image/png": "[encoded data removed]",
            "text/plain": [
              "<Figure size 864x432 with 1 Axes>"
            ]
          },
          "metadata": {
            "tags": [],
            "needs_background": "light"
          }
        }
      ]
    },
    {
      "cell_type": "markdown",
      "metadata": {
        "id": "WArotYgOTQOX"
      },
      "source": [
        "#Conclusion\n",
        "With everything we have learned from our graphs, maps, correlations and machine learning methods, we can conclude that price is affected by neighbourhood groups, room types, distance to subway entrances and there is a correlation between all these features."
      ]
    }
  ]
}